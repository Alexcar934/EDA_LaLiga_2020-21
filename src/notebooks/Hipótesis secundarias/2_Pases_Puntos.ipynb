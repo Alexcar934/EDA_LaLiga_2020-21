{
 "cells": [
  {
   "cell_type": "markdown",
   "metadata": {},
   "source": [
    "### Este notebook limpia los datos con el fin de dar respuesta a la Hipótesis Secundaria 2:\n",
    "\n",
    "    \"El número de pases acertados por los jugadores de un equipo es directamente proporcional a la posición en la tabla del equipo.\""
   ]
  },
  {
   "cell_type": "code",
   "execution_count": 1,
   "metadata": {},
   "outputs": [],
   "source": [
    "import pandas as pd"
   ]
  },
  {
   "cell_type": "code",
   "execution_count": 2,
   "metadata": {},
   "outputs": [],
   "source": [
    "df = pd.read_csv('/Users/alexcar934/Desktop/EDA_bien/src/data/raw/datasetMatchInfo2020-La-Liga.csv')\n",
    "df = df.drop_duplicates()\n",
    "\n",
    "#Agrupo por equipos y cojo la suma de los pases acertados\n",
    "#hago 3 reset index porque creo 3 columnas:\n",
    "    #El primer reset index hace que el equipo pase a ser una columna\n",
    "    #El segundo crea una columna donde añadiré los puntos de cada equipo\n",
    "    #El tercero crea otra columna donde añadiré la posición de cada equipo en la clasificación\n",
    "df2 = df.groupby('Team')['Passes|Cmp%'].sum().reset_index().reset_index().reset_index()\n",
    "\n",
    "#La posición de cada equipo\n",
    "df2['level_0'] = [13, 11, 1, 6, 10,8,9,16,15,14,7,20,12,19,2,3,4,17,18,5]\n",
    "\n",
    "#Los puntos de cada equipo\n",
    "df2['index'] = [18,18,35,25,19,23,19,16,16,17,24,12,18,13,33,29,26,15,15,26]\n",
    "\n",
    "df2.columns = ['Ranking', 'Puntos', 'Equipo', 'Pases acertados']\n",
    "df2.sort_values(by='Ranking').to_csv('/Users/alexcar934/Desktop/EDA_bien/src/data/processed/csv_plots/2_Pases_Puntos(Puntos_pases).csv')"
   ]
  }
 ],
 "metadata": {
  "kernelspec": {
   "display_name": "Python 3.10.6 64-bit",
   "language": "python",
   "name": "python3"
  },
  "language_info": {
   "codemirror_mode": {
    "name": "ipython",
    "version": 3
   },
   "file_extension": ".py",
   "mimetype": "text/x-python",
   "name": "python",
   "nbconvert_exporter": "python",
   "pygments_lexer": "ipython3",
   "version": "3.10.6"
  },
  "orig_nbformat": 4,
  "vscode": {
   "interpreter": {
    "hash": "aee8b7b246df8f9039afb4144a1f6fd8d2ca17a180786b69acc140d282b71a49"
   }
  }
 },
 "nbformat": 4,
 "nbformat_minor": 2
}
