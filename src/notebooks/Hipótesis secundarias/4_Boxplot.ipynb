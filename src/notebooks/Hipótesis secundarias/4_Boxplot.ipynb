{
 "cells": [
  {
   "cell_type": "code",
   "execution_count": 1,
   "metadata": {},
   "outputs": [
    {
     "data": {
      "text/html": [
       "        <script type=\"text/javascript\">\n",
       "        window.PlotlyConfig = {MathJaxConfig: 'local'};\n",
       "        if (window.MathJax && window.MathJax.Hub && window.MathJax.Hub.Config) {window.MathJax.Hub.Config({SVG: {font: \"STIX-Web\"}});}\n",
       "        if (typeof require !== 'undefined') {\n",
       "        require.undef(\"plotly\");\n",
       "        requirejs.config({\n",
       "            paths: {\n",
       "                'plotly': ['https://cdn.plot.ly/plotly-2.14.0.min']\n",
       "            }\n",
       "        });\n",
       "        require(['plotly'], function(Plotly) {\n",
       "            window._Plotly = Plotly;\n",
       "        });\n",
       "        }\n",
       "        </script>\n",
       "        "
      ]
     },
     "metadata": {},
     "output_type": "display_data"
    },
    {
     "name": "stdout",
     "output_type": "stream",
     "text": [
      "['cb_plots_HS.ipynb', '4_Boxplot.ipynb', 'cm_plots_HS.ipynb', '.DS_Store', 'cm_pases_HS.ipynb', 'despejes_golesencajados_HS.ipynb', 'eda_cb_despejes_goles.ipynb', 'pases_reg_equipos.ipynb', '4_Defensas_Sobresalientes.ipynb']\n"
     ]
    }
   ],
   "source": [
    "import pandas as pd\n",
    "\n",
    "# plotly\n",
    "# import plotly.plotly as py\n",
    "from plotly.offline import init_notebook_mode, iplot\n",
    "init_notebook_mode(connected=True)\n",
    "import plotly.graph_objs as go\n",
    "\n",
    "import os\n",
    "print(os.listdir())\n",
    "\n",
    "# Any results you write to the current directory are saved as output."
   ]
  },
  {
   "cell_type": "code",
   "execution_count": 2,
   "metadata": {},
   "outputs": [
    {
     "data": {
      "text/html": [
       "<div>\n",
       "<style scoped>\n",
       "    .dataframe tbody tr th:only-of-type {\n",
       "        vertical-align: middle;\n",
       "    }\n",
       "\n",
       "    .dataframe tbody tr th {\n",
       "        vertical-align: top;\n",
       "    }\n",
       "\n",
       "    .dataframe thead th {\n",
       "        text-align: right;\n",
       "    }\n",
       "</style>\n",
       "<table border=\"1\" class=\"dataframe\">\n",
       "  <thead>\n",
       "    <tr style=\"text-align: right;\">\n",
       "      <th></th>\n",
       "      <th>Player</th>\n",
       "      <th>Team</th>\n",
       "      <th>Disparos bloqueados</th>\n",
       "      <th>Intercepciones de balón</th>\n",
       "      <th>Recuperaciones</th>\n",
       "      <th>Despejes</th>\n",
       "      <th>Goles encajados por partido</th>\n",
       "    </tr>\n",
       "  </thead>\n",
       "  <tbody>\n",
       "    <tr>\n",
       "      <th>0</th>\n",
       "      <td>Rubén Duarte</td>\n",
       "      <td>Alavés</td>\n",
       "      <td>45.0</td>\n",
       "      <td>1.200000</td>\n",
       "      <td>9.600000</td>\n",
       "      <td>3.733333</td>\n",
       "      <td>14.088889</td>\n",
       "    </tr>\n",
       "    <tr>\n",
       "      <th>8</th>\n",
       "      <td>Pau Torres</td>\n",
       "      <td>Villarreal</td>\n",
       "      <td>30.0</td>\n",
       "      <td>0.625000</td>\n",
       "      <td>10.250000</td>\n",
       "      <td>3.937500</td>\n",
       "      <td>17.000000</td>\n",
       "    </tr>\n",
       "    <tr>\n",
       "      <th>25</th>\n",
       "      <td>Mouctar Diakhaby</td>\n",
       "      <td>Valencia</td>\n",
       "      <td>30.0</td>\n",
       "      <td>0.090909</td>\n",
       "      <td>6.909091</td>\n",
       "      <td>5.181818</td>\n",
       "      <td>11.787500</td>\n",
       "    </tr>\n",
       "    <tr>\n",
       "      <th>10</th>\n",
       "      <td>Gonzalo Verdú</td>\n",
       "      <td>Elche</td>\n",
       "      <td>28.0</td>\n",
       "      <td>0.928571</td>\n",
       "      <td>7.214286</td>\n",
       "      <td>5.000000</td>\n",
       "      <td>14.875000</td>\n",
       "    </tr>\n",
       "    <tr>\n",
       "      <th>16</th>\n",
       "      <td>Dimitris Siovas</td>\n",
       "      <td>Huesca</td>\n",
       "      <td>26.0</td>\n",
       "      <td>0.866667</td>\n",
       "      <td>10.133333</td>\n",
       "      <td>5.200000</td>\n",
       "      <td>22.500000</td>\n",
       "    </tr>\n",
       "    <tr>\n",
       "      <th>5</th>\n",
       "      <td>Ximo Navarro</td>\n",
       "      <td>Alavés</td>\n",
       "      <td>24.0</td>\n",
       "      <td>1.461538</td>\n",
       "      <td>9.461538</td>\n",
       "      <td>3.230769</td>\n",
       "      <td>11.093750</td>\n",
       "    </tr>\n",
       "    <tr>\n",
       "      <th>12</th>\n",
       "      <td>Rúben Vezo</td>\n",
       "      <td>Levante</td>\n",
       "      <td>21.0</td>\n",
       "      <td>1.000000</td>\n",
       "      <td>9.333333</td>\n",
       "      <td>4.666667</td>\n",
       "      <td>9.659722</td>\n",
       "    </tr>\n",
       "    <tr>\n",
       "      <th>14</th>\n",
       "      <td>Raphaël Varane</td>\n",
       "      <td>RealM</td>\n",
       "      <td>21.0</td>\n",
       "      <td>1.400000</td>\n",
       "      <td>8.466667</td>\n",
       "      <td>3.800000</td>\n",
       "      <td>13.125000</td>\n",
       "    </tr>\n",
       "    <tr>\n",
       "      <th>2</th>\n",
       "      <td>Marc Bartra</td>\n",
       "      <td>Betis</td>\n",
       "      <td>21.0</td>\n",
       "      <td>1.333333</td>\n",
       "      <td>10.416667</td>\n",
       "      <td>4.833333</td>\n",
       "      <td>14.777778</td>\n",
       "    </tr>\n",
       "    <tr>\n",
       "      <th>4</th>\n",
       "      <td>Florian Lejeune</td>\n",
       "      <td>Alavés</td>\n",
       "      <td>20.0</td>\n",
       "      <td>1.153846</td>\n",
       "      <td>10.846154</td>\n",
       "      <td>5.769231</td>\n",
       "      <td>11.718750</td>\n",
       "    </tr>\n",
       "    <tr>\n",
       "      <th>13</th>\n",
       "      <td>Gabriel Paulista</td>\n",
       "      <td>Valencia</td>\n",
       "      <td>20.0</td>\n",
       "      <td>1.545455</td>\n",
       "      <td>8.363636</td>\n",
       "      <td>6.090909</td>\n",
       "      <td>12.375000</td>\n",
       "    </tr>\n",
       "    <tr>\n",
       "      <th>1</th>\n",
       "      <td>Víctor Laguardia</td>\n",
       "      <td>Alavés</td>\n",
       "      <td>20.0</td>\n",
       "      <td>0.857143</td>\n",
       "      <td>9.071429</td>\n",
       "      <td>4.714286</td>\n",
       "      <td>12.302083</td>\n",
       "    </tr>\n",
       "    <tr>\n",
       "      <th>19</th>\n",
       "      <td>David García</td>\n",
       "      <td>Osasuna</td>\n",
       "      <td>20.0</td>\n",
       "      <td>1.000000</td>\n",
       "      <td>15.071429</td>\n",
       "      <td>7.071429</td>\n",
       "      <td>17.500000</td>\n",
       "    </tr>\n",
       "    <tr>\n",
       "      <th>15</th>\n",
       "      <td>Jorge Pulido</td>\n",
       "      <td>Huesca</td>\n",
       "      <td>19.0</td>\n",
       "      <td>0.545455</td>\n",
       "      <td>11.272727</td>\n",
       "      <td>3.636364</td>\n",
       "      <td>13.062500</td>\n",
       "    </tr>\n",
       "    <tr>\n",
       "      <th>18</th>\n",
       "      <td>Jeison Murillo</td>\n",
       "      <td>Celta</td>\n",
       "      <td>18.0</td>\n",
       "      <td>0.714286</td>\n",
       "      <td>10.285714</td>\n",
       "      <td>3.785714</td>\n",
       "      <td>19.081944</td>\n",
       "    </tr>\n",
       "    <tr>\n",
       "      <th>23</th>\n",
       "      <td>Diego Carlos</td>\n",
       "      <td>Sevilla</td>\n",
       "      <td>18.0</td>\n",
       "      <td>0.500000</td>\n",
       "      <td>8.642857</td>\n",
       "      <td>4.285714</td>\n",
       "      <td>8.673611</td>\n",
       "    </tr>\n",
       "    <tr>\n",
       "      <th>22</th>\n",
       "      <td>Jules Koundé</td>\n",
       "      <td>Sevilla</td>\n",
       "      <td>17.0</td>\n",
       "      <td>0.909091</td>\n",
       "      <td>9.272727</td>\n",
       "      <td>3.909091</td>\n",
       "      <td>4.812500</td>\n",
       "    </tr>\n",
       "    <tr>\n",
       "      <th>27</th>\n",
       "      <td>Robin Le Normand</td>\n",
       "      <td>RealS</td>\n",
       "      <td>17.0</td>\n",
       "      <td>0.846154</td>\n",
       "      <td>12.538462</td>\n",
       "      <td>4.692308</td>\n",
       "      <td>7.243750</td>\n",
       "    </tr>\n",
       "    <tr>\n",
       "      <th>26</th>\n",
       "      <td>Sergio Ramos</td>\n",
       "      <td>RealM</td>\n",
       "      <td>17.0</td>\n",
       "      <td>1.153846</td>\n",
       "      <td>10.461538</td>\n",
       "      <td>3.230769</td>\n",
       "      <td>9.375000</td>\n",
       "    </tr>\n",
       "    <tr>\n",
       "      <th>24</th>\n",
       "      <td>Bruno González</td>\n",
       "      <td>Valladolid</td>\n",
       "      <td>17.0</td>\n",
       "      <td>1.076923</td>\n",
       "      <td>8.923077</td>\n",
       "      <td>6.615385</td>\n",
       "      <td>13.812500</td>\n",
       "    </tr>\n",
       "    <tr>\n",
       "      <th>7</th>\n",
       "      <td>Raúl Albiol</td>\n",
       "      <td>Villarreal</td>\n",
       "      <td>17.0</td>\n",
       "      <td>0.562500</td>\n",
       "      <td>9.125000</td>\n",
       "      <td>4.625000</td>\n",
       "      <td>16.763889</td>\n",
       "    </tr>\n",
       "    <tr>\n",
       "      <th>3</th>\n",
       "      <td>Domingos Duarte</td>\n",
       "      <td>Granada</td>\n",
       "      <td>17.0</td>\n",
       "      <td>0.727273</td>\n",
       "      <td>10.545455</td>\n",
       "      <td>3.909091</td>\n",
       "      <td>13.444444</td>\n",
       "    </tr>\n",
       "    <tr>\n",
       "      <th>9</th>\n",
       "      <td>Iñigo Martínez</td>\n",
       "      <td>Athletic</td>\n",
       "      <td>16.0</td>\n",
       "      <td>0.600000</td>\n",
       "      <td>10.600000</td>\n",
       "      <td>4.866667</td>\n",
       "      <td>15.937500</td>\n",
       "    </tr>\n",
       "    <tr>\n",
       "      <th>17</th>\n",
       "      <td>Néstor Araujo</td>\n",
       "      <td>Celta</td>\n",
       "      <td>16.0</td>\n",
       "      <td>1.166667</td>\n",
       "      <td>10.333333</td>\n",
       "      <td>5.750000</td>\n",
       "      <td>11.380556</td>\n",
       "    </tr>\n",
       "    <tr>\n",
       "      <th>11</th>\n",
       "      <td>Clément Lenglet</td>\n",
       "      <td>Barcelona</td>\n",
       "      <td>16.0</td>\n",
       "      <td>1.000000</td>\n",
       "      <td>10.454545</td>\n",
       "      <td>3.272727</td>\n",
       "      <td>6.966667</td>\n",
       "    </tr>\n",
       "    <tr>\n",
       "      <th>6</th>\n",
       "      <td>Djené</td>\n",
       "      <td>Getafe</td>\n",
       "      <td>14.0</td>\n",
       "      <td>0.750000</td>\n",
       "      <td>14.666667</td>\n",
       "      <td>5.083333</td>\n",
       "      <td>8.250000</td>\n",
       "    </tr>\n",
       "    <tr>\n",
       "      <th>28</th>\n",
       "      <td>Stefan Savić</td>\n",
       "      <td>Atlético</td>\n",
       "      <td>14.0</td>\n",
       "      <td>0.846154</td>\n",
       "      <td>10.615385</td>\n",
       "      <td>3.769231</td>\n",
       "      <td>4.062500</td>\n",
       "    </tr>\n",
       "    <tr>\n",
       "      <th>21</th>\n",
       "      <td>Cala</td>\n",
       "      <td>Cádiz</td>\n",
       "      <td>12.0</td>\n",
       "      <td>0.666667</td>\n",
       "      <td>9.750000</td>\n",
       "      <td>5.000000</td>\n",
       "      <td>9.343750</td>\n",
       "    </tr>\n",
       "    <tr>\n",
       "      <th>20</th>\n",
       "      <td>Yeray Álvarez</td>\n",
       "      <td>Athletic</td>\n",
       "      <td>7.0</td>\n",
       "      <td>1.727273</td>\n",
       "      <td>10.818182</td>\n",
       "      <td>5.272727</td>\n",
       "      <td>10.312500</td>\n",
       "    </tr>\n",
       "  </tbody>\n",
       "</table>\n",
       "</div>"
      ],
      "text/plain": [
       "              Player        Team  Disparos bloqueados  \\\n",
       "0       Rubén Duarte      Alavés                 45.0   \n",
       "8         Pau Torres  Villarreal                 30.0   \n",
       "25  Mouctar Diakhaby    Valencia                 30.0   \n",
       "10     Gonzalo Verdú       Elche                 28.0   \n",
       "16   Dimitris Siovas      Huesca                 26.0   \n",
       "5       Ximo Navarro      Alavés                 24.0   \n",
       "12        Rúben Vezo     Levante                 21.0   \n",
       "14    Raphaël Varane       RealM                 21.0   \n",
       "2        Marc Bartra       Betis                 21.0   \n",
       "4    Florian Lejeune      Alavés                 20.0   \n",
       "13  Gabriel Paulista    Valencia                 20.0   \n",
       "1   Víctor Laguardia      Alavés                 20.0   \n",
       "19      David García     Osasuna                 20.0   \n",
       "15      Jorge Pulido      Huesca                 19.0   \n",
       "18    Jeison Murillo       Celta                 18.0   \n",
       "23      Diego Carlos     Sevilla                 18.0   \n",
       "22      Jules Koundé     Sevilla                 17.0   \n",
       "27  Robin Le Normand       RealS                 17.0   \n",
       "26      Sergio Ramos       RealM                 17.0   \n",
       "24    Bruno González  Valladolid                 17.0   \n",
       "7        Raúl Albiol  Villarreal                 17.0   \n",
       "3    Domingos Duarte     Granada                 17.0   \n",
       "9     Iñigo Martínez    Athletic                 16.0   \n",
       "17     Néstor Araujo       Celta                 16.0   \n",
       "11   Clément Lenglet   Barcelona                 16.0   \n",
       "6              Djené      Getafe                 14.0   \n",
       "28      Stefan Savić    Atlético                 14.0   \n",
       "21              Cala       Cádiz                 12.0   \n",
       "20     Yeray Álvarez    Athletic                  7.0   \n",
       "\n",
       "    Intercepciones de balón  Recuperaciones  Despejes  \\\n",
       "0                  1.200000        9.600000  3.733333   \n",
       "8                  0.625000       10.250000  3.937500   \n",
       "25                 0.090909        6.909091  5.181818   \n",
       "10                 0.928571        7.214286  5.000000   \n",
       "16                 0.866667       10.133333  5.200000   \n",
       "5                  1.461538        9.461538  3.230769   \n",
       "12                 1.000000        9.333333  4.666667   \n",
       "14                 1.400000        8.466667  3.800000   \n",
       "2                  1.333333       10.416667  4.833333   \n",
       "4                  1.153846       10.846154  5.769231   \n",
       "13                 1.545455        8.363636  6.090909   \n",
       "1                  0.857143        9.071429  4.714286   \n",
       "19                 1.000000       15.071429  7.071429   \n",
       "15                 0.545455       11.272727  3.636364   \n",
       "18                 0.714286       10.285714  3.785714   \n",
       "23                 0.500000        8.642857  4.285714   \n",
       "22                 0.909091        9.272727  3.909091   \n",
       "27                 0.846154       12.538462  4.692308   \n",
       "26                 1.153846       10.461538  3.230769   \n",
       "24                 1.076923        8.923077  6.615385   \n",
       "7                  0.562500        9.125000  4.625000   \n",
       "3                  0.727273       10.545455  3.909091   \n",
       "9                  0.600000       10.600000  4.866667   \n",
       "17                 1.166667       10.333333  5.750000   \n",
       "11                 1.000000       10.454545  3.272727   \n",
       "6                  0.750000       14.666667  5.083333   \n",
       "28                 0.846154       10.615385  3.769231   \n",
       "21                 0.666667        9.750000  5.000000   \n",
       "20                 1.727273       10.818182  5.272727   \n",
       "\n",
       "    Goles encajados por partido  \n",
       "0                     14.088889  \n",
       "8                     17.000000  \n",
       "25                    11.787500  \n",
       "10                    14.875000  \n",
       "16                    22.500000  \n",
       "5                     11.093750  \n",
       "12                     9.659722  \n",
       "14                    13.125000  \n",
       "2                     14.777778  \n",
       "4                     11.718750  \n",
       "13                    12.375000  \n",
       "1                     12.302083  \n",
       "19                    17.500000  \n",
       "15                    13.062500  \n",
       "18                    19.081944  \n",
       "23                     8.673611  \n",
       "22                     4.812500  \n",
       "27                     7.243750  \n",
       "26                     9.375000  \n",
       "24                    13.812500  \n",
       "7                     16.763889  \n",
       "3                     13.444444  \n",
       "9                     15.937500  \n",
       "17                    11.380556  \n",
       "11                     6.966667  \n",
       "6                      8.250000  \n",
       "28                     4.062500  \n",
       "21                     9.343750  \n",
       "20                    10.312500  "
      ]
     },
     "execution_count": 2,
     "metadata": {},
     "output_type": "execute_result"
    }
   ],
   "source": [
    "df_def = pd.read_csv('/Users/alexcar934/Desktop/EDA_bien/src/data/processed/csv_plots/4_Defensas_Sobresalientes(df_defensas_2).csv')\n",
    "df_def = df_def.iloc[:,1:]\n",
    "\n",
    "df_def.sort_values(by='Disparos bloqueados', ascending=False)"
   ]
  },
  {
   "cell_type": "code",
   "execution_count": 3,
   "metadata": {},
   "outputs": [
    {
     "data": {
      "application/vnd.plotly.v1+json": {
       "config": {
        "linkText": "Export to plot.ly",
        "plotlyServerURL": "https://plot.ly",
        "showLink": false
       },
       "data": [
        {
         "hovertext": [
          "Rubén Duarte",
          "Víctor Laguardia",
          "Marc Bartra",
          "Domingos Duarte",
          "Florian Lejeune",
          "Ximo Navarro",
          "Djené",
          "Raúl Albiol",
          "Pau Torres",
          "Iñigo Martínez",
          "Gonzalo Verdú",
          "Clément Lenglet",
          "Rúben Vezo",
          "Gabriel Paulista",
          "Raphaël Varane",
          "Jorge Pulido",
          "Dimitris Siovas",
          "Néstor Araujo",
          "Jeison Murillo",
          "David García",
          "Yeray Álvarez",
          "Cala",
          "Jules Koundé",
          "Diego Carlos",
          "Bruno González",
          "Mouctar Diakhaby",
          "Sergio Ramos",
          "Robin Le Normand",
          "Stefan Savić"
         ],
         "marker": {
          "color": "rgb(12,12,140)"
         },
         "name": "Despejes totales",
         "type": "box",
         "y": [
          3.733333333333333,
          4.714285714285714,
          4.833333333333333,
          3.909090909090909,
          5.769230769230769,
          3.230769230769231,
          5.083333333333333,
          4.625,
          3.9375,
          4.866666666666666,
          5,
          3.272727272727273,
          4.666666666666667,
          6.090909090909091,
          3.8,
          3.636363636363636,
          5.2,
          5.75,
          3.7857142857142856,
          7.071428571428571,
          5.2727272727272725,
          5,
          3.909090909090909,
          4.285714285714286,
          6.615384615384615,
          5.181818181818182,
          3.230769230769231,
          4.6923076923076925,
          3.769230769230769
         ]
        },
        {
         "hovertext": [
          "Rubén Duarte",
          "Víctor Laguardia",
          "Marc Bartra",
          "Domingos Duarte",
          "Florian Lejeune",
          "Ximo Navarro",
          "Djené",
          "Raúl Albiol",
          "Pau Torres",
          "Iñigo Martínez",
          "Gonzalo Verdú",
          "Clément Lenglet",
          "Rúben Vezo",
          "Gabriel Paulista",
          "Raphaël Varane",
          "Jorge Pulido",
          "Dimitris Siovas",
          "Néstor Araujo",
          "Jeison Murillo",
          "David García",
          "Yeray Álvarez",
          "Cala",
          "Jules Koundé",
          "Diego Carlos",
          "Bruno González",
          "Mouctar Diakhaby",
          "Sergio Ramos",
          "Robin Le Normand",
          "Stefan Savić"
         ],
         "marker": {
          "color": "rgb(12,128,128)"
         },
         "name": "Recuperaciones totales",
         "type": "box",
         "y": [
          9.6,
          9.071428571428571,
          10.416666666666666,
          10.545454545454543,
          10.846153846153848,
          9.461538461538462,
          14.666666666666666,
          9.125,
          10.25,
          10.6,
          7.214285714285714,
          10.454545454545457,
          9.333333333333334,
          8.363636363636363,
          8.466666666666667,
          11.272727272727272,
          10.133333333333333,
          10.333333333333334,
          10.285714285714286,
          15.071428571428571,
          10.818181818181818,
          9.75,
          9.272727272727272,
          8.642857142857142,
          8.923076923076923,
          6.909090909090909,
          10.461538461538462,
          12.538461538461538,
          10.615384615384617
         ]
        },
        {
         "hovertext": [
          "Rubén Duarte",
          "Víctor Laguardia",
          "Marc Bartra",
          "Domingos Duarte",
          "Florian Lejeune",
          "Ximo Navarro",
          "Djené",
          "Raúl Albiol",
          "Pau Torres",
          "Iñigo Martínez",
          "Gonzalo Verdú",
          "Clément Lenglet",
          "Rúben Vezo",
          "Gabriel Paulista",
          "Raphaël Varane",
          "Jorge Pulido",
          "Dimitris Siovas",
          "Néstor Araujo",
          "Jeison Murillo",
          "David García",
          "Yeray Álvarez",
          "Cala",
          "Jules Koundé",
          "Diego Carlos",
          "Bruno González",
          "Mouctar Diakhaby",
          "Sergio Ramos",
          "Robin Le Normand",
          "Stefan Savić"
         ],
         "marker": {
          "color": "orange"
         },
         "name": "Intercepciones de balón",
         "type": "box",
         "y": [
          1.2,
          0.8571428571428571,
          1.3333333333333333,
          0.7272727272727273,
          1.1538461538461535,
          1.4615384615384617,
          0.75,
          0.5625,
          0.625,
          0.6,
          0.9285714285714286,
          1,
          1,
          1.5454545454545454,
          1.4,
          0.5454545454545454,
          0.8666666666666667,
          1.1666666666666667,
          0.7142857142857143,
          1,
          1.7272727272727273,
          0.6666666666666666,
          0.9090909090909092,
          0.5,
          1.0769230769230769,
          0.0909090909090909,
          1.1538461538461535,
          0.8461538461538461,
          0.8461538461538461
         ]
        },
        {
         "hovertext": [
          "Rubén Duarte",
          "Víctor Laguardia",
          "Marc Bartra",
          "Domingos Duarte",
          "Florian Lejeune",
          "Ximo Navarro",
          "Djené",
          "Raúl Albiol",
          "Pau Torres",
          "Iñigo Martínez",
          "Gonzalo Verdú",
          "Clément Lenglet",
          "Rúben Vezo",
          "Gabriel Paulista",
          "Raphaël Varane",
          "Jorge Pulido",
          "Dimitris Siovas",
          "Néstor Araujo",
          "Jeison Murillo",
          "David García",
          "Yeray Álvarez",
          "Cala",
          "Jules Koundé",
          "Diego Carlos",
          "Bruno González",
          "Mouctar Diakhaby",
          "Sergio Ramos",
          "Robin Le Normand",
          "Stefan Savić"
         ],
         "marker": {
          "color": "red"
         },
         "name": "Disparos bloqueados",
         "type": "box",
         "y": [
          45,
          20,
          21,
          17,
          20,
          24,
          14,
          17,
          30,
          16,
          28,
          16,
          21,
          20,
          21,
          19,
          26,
          16,
          18,
          20,
          7,
          12,
          17,
          18,
          17,
          30,
          17,
          17,
          14
         ]
        },
        {
         "hovertext": [
          "Rubén Duarte",
          "Víctor Laguardia",
          "Marc Bartra",
          "Domingos Duarte",
          "Florian Lejeune",
          "Ximo Navarro",
          "Djené",
          "Raúl Albiol",
          "Pau Torres",
          "Iñigo Martínez",
          "Gonzalo Verdú",
          "Clément Lenglet",
          "Rúben Vezo",
          "Gabriel Paulista",
          "Raphaël Varane",
          "Jorge Pulido",
          "Dimitris Siovas",
          "Néstor Araujo",
          "Jeison Murillo",
          "David García",
          "Yeray Álvarez",
          "Cala",
          "Jules Koundé",
          "Diego Carlos",
          "Bruno González",
          "Mouctar Diakhaby",
          "Sergio Ramos",
          "Robin Le Normand",
          "Stefan Savić"
         ],
         "marker": {
          "color": "midnightblue"
         },
         "name": "Goles encajados por partido",
         "type": "box",
         "y": [
          14.088888888888889,
          12.302083333333332,
          14.77777777777778,
          13.444444444444446,
          11.71875,
          11.09375,
          8.25,
          16.76388888888889,
          17,
          15.9375,
          14.875,
          6.966666666666667,
          9.659722222222223,
          12.375,
          13.125,
          13.0625,
          22.5,
          11.380555555555556,
          19.08194444444445,
          17.5,
          10.3125,
          9.34375,
          4.8125,
          8.67361111111111,
          13.8125,
          11.7875,
          9.375,
          7.24375,
          4.0625
         ]
        }
       ],
       "layout": {
        "template": {
         "data": {
          "bar": [
           {
            "error_x": {
             "color": "#2a3f5f"
            },
            "error_y": {
             "color": "#2a3f5f"
            },
            "marker": {
             "line": {
              "color": "#E5ECF6",
              "width": 0.5
             },
             "pattern": {
              "fillmode": "overlay",
              "size": 10,
              "solidity": 0.2
             }
            },
            "type": "bar"
           }
          ],
          "barpolar": [
           {
            "marker": {
             "line": {
              "color": "#E5ECF6",
              "width": 0.5
             },
             "pattern": {
              "fillmode": "overlay",
              "size": 10,
              "solidity": 0.2
             }
            },
            "type": "barpolar"
           }
          ],
          "carpet": [
           {
            "aaxis": {
             "endlinecolor": "#2a3f5f",
             "gridcolor": "white",
             "linecolor": "white",
             "minorgridcolor": "white",
             "startlinecolor": "#2a3f5f"
            },
            "baxis": {
             "endlinecolor": "#2a3f5f",
             "gridcolor": "white",
             "linecolor": "white",
             "minorgridcolor": "white",
             "startlinecolor": "#2a3f5f"
            },
            "type": "carpet"
           }
          ],
          "choropleth": [
           {
            "colorbar": {
             "outlinewidth": 0,
             "ticks": ""
            },
            "type": "choropleth"
           }
          ],
          "contour": [
           {
            "colorbar": {
             "outlinewidth": 0,
             "ticks": ""
            },
            "colorscale": [
             [
              0,
              "#0d0887"
             ],
             [
              0.1111111111111111,
              "#46039f"
             ],
             [
              0.2222222222222222,
              "#7201a8"
             ],
             [
              0.3333333333333333,
              "#9c179e"
             ],
             [
              0.4444444444444444,
              "#bd3786"
             ],
             [
              0.5555555555555556,
              "#d8576b"
             ],
             [
              0.6666666666666666,
              "#ed7953"
             ],
             [
              0.7777777777777778,
              "#fb9f3a"
             ],
             [
              0.8888888888888888,
              "#fdca26"
             ],
             [
              1,
              "#f0f921"
             ]
            ],
            "type": "contour"
           }
          ],
          "contourcarpet": [
           {
            "colorbar": {
             "outlinewidth": 0,
             "ticks": ""
            },
            "type": "contourcarpet"
           }
          ],
          "heatmap": [
           {
            "colorbar": {
             "outlinewidth": 0,
             "ticks": ""
            },
            "colorscale": [
             [
              0,
              "#0d0887"
             ],
             [
              0.1111111111111111,
              "#46039f"
             ],
             [
              0.2222222222222222,
              "#7201a8"
             ],
             [
              0.3333333333333333,
              "#9c179e"
             ],
             [
              0.4444444444444444,
              "#bd3786"
             ],
             [
              0.5555555555555556,
              "#d8576b"
             ],
             [
              0.6666666666666666,
              "#ed7953"
             ],
             [
              0.7777777777777778,
              "#fb9f3a"
             ],
             [
              0.8888888888888888,
              "#fdca26"
             ],
             [
              1,
              "#f0f921"
             ]
            ],
            "type": "heatmap"
           }
          ],
          "heatmapgl": [
           {
            "colorbar": {
             "outlinewidth": 0,
             "ticks": ""
            },
            "colorscale": [
             [
              0,
              "#0d0887"
             ],
             [
              0.1111111111111111,
              "#46039f"
             ],
             [
              0.2222222222222222,
              "#7201a8"
             ],
             [
              0.3333333333333333,
              "#9c179e"
             ],
             [
              0.4444444444444444,
              "#bd3786"
             ],
             [
              0.5555555555555556,
              "#d8576b"
             ],
             [
              0.6666666666666666,
              "#ed7953"
             ],
             [
              0.7777777777777778,
              "#fb9f3a"
             ],
             [
              0.8888888888888888,
              "#fdca26"
             ],
             [
              1,
              "#f0f921"
             ]
            ],
            "type": "heatmapgl"
           }
          ],
          "histogram": [
           {
            "marker": {
             "pattern": {
              "fillmode": "overlay",
              "size": 10,
              "solidity": 0.2
             }
            },
            "type": "histogram"
           }
          ],
          "histogram2d": [
           {
            "colorbar": {
             "outlinewidth": 0,
             "ticks": ""
            },
            "colorscale": [
             [
              0,
              "#0d0887"
             ],
             [
              0.1111111111111111,
              "#46039f"
             ],
             [
              0.2222222222222222,
              "#7201a8"
             ],
             [
              0.3333333333333333,
              "#9c179e"
             ],
             [
              0.4444444444444444,
              "#bd3786"
             ],
             [
              0.5555555555555556,
              "#d8576b"
             ],
             [
              0.6666666666666666,
              "#ed7953"
             ],
             [
              0.7777777777777778,
              "#fb9f3a"
             ],
             [
              0.8888888888888888,
              "#fdca26"
             ],
             [
              1,
              "#f0f921"
             ]
            ],
            "type": "histogram2d"
           }
          ],
          "histogram2dcontour": [
           {
            "colorbar": {
             "outlinewidth": 0,
             "ticks": ""
            },
            "colorscale": [
             [
              0,
              "#0d0887"
             ],
             [
              0.1111111111111111,
              "#46039f"
             ],
             [
              0.2222222222222222,
              "#7201a8"
             ],
             [
              0.3333333333333333,
              "#9c179e"
             ],
             [
              0.4444444444444444,
              "#bd3786"
             ],
             [
              0.5555555555555556,
              "#d8576b"
             ],
             [
              0.6666666666666666,
              "#ed7953"
             ],
             [
              0.7777777777777778,
              "#fb9f3a"
             ],
             [
              0.8888888888888888,
              "#fdca26"
             ],
             [
              1,
              "#f0f921"
             ]
            ],
            "type": "histogram2dcontour"
           }
          ],
          "mesh3d": [
           {
            "colorbar": {
             "outlinewidth": 0,
             "ticks": ""
            },
            "type": "mesh3d"
           }
          ],
          "parcoords": [
           {
            "line": {
             "colorbar": {
              "outlinewidth": 0,
              "ticks": ""
             }
            },
            "type": "parcoords"
           }
          ],
          "pie": [
           {
            "automargin": true,
            "type": "pie"
           }
          ],
          "scatter": [
           {
            "fillpattern": {
             "fillmode": "overlay",
             "size": 10,
             "solidity": 0.2
            },
            "type": "scatter"
           }
          ],
          "scatter3d": [
           {
            "line": {
             "colorbar": {
              "outlinewidth": 0,
              "ticks": ""
             }
            },
            "marker": {
             "colorbar": {
              "outlinewidth": 0,
              "ticks": ""
             }
            },
            "type": "scatter3d"
           }
          ],
          "scattercarpet": [
           {
            "marker": {
             "colorbar": {
              "outlinewidth": 0,
              "ticks": ""
             }
            },
            "type": "scattercarpet"
           }
          ],
          "scattergeo": [
           {
            "marker": {
             "colorbar": {
              "outlinewidth": 0,
              "ticks": ""
             }
            },
            "type": "scattergeo"
           }
          ],
          "scattergl": [
           {
            "marker": {
             "colorbar": {
              "outlinewidth": 0,
              "ticks": ""
             }
            },
            "type": "scattergl"
           }
          ],
          "scattermapbox": [
           {
            "marker": {
             "colorbar": {
              "outlinewidth": 0,
              "ticks": ""
             }
            },
            "type": "scattermapbox"
           }
          ],
          "scatterpolar": [
           {
            "marker": {
             "colorbar": {
              "outlinewidth": 0,
              "ticks": ""
             }
            },
            "type": "scatterpolar"
           }
          ],
          "scatterpolargl": [
           {
            "marker": {
             "colorbar": {
              "outlinewidth": 0,
              "ticks": ""
             }
            },
            "type": "scatterpolargl"
           }
          ],
          "scatterternary": [
           {
            "marker": {
             "colorbar": {
              "outlinewidth": 0,
              "ticks": ""
             }
            },
            "type": "scatterternary"
           }
          ],
          "surface": [
           {
            "colorbar": {
             "outlinewidth": 0,
             "ticks": ""
            },
            "colorscale": [
             [
              0,
              "#0d0887"
             ],
             [
              0.1111111111111111,
              "#46039f"
             ],
             [
              0.2222222222222222,
              "#7201a8"
             ],
             [
              0.3333333333333333,
              "#9c179e"
             ],
             [
              0.4444444444444444,
              "#bd3786"
             ],
             [
              0.5555555555555556,
              "#d8576b"
             ],
             [
              0.6666666666666666,
              "#ed7953"
             ],
             [
              0.7777777777777778,
              "#fb9f3a"
             ],
             [
              0.8888888888888888,
              "#fdca26"
             ],
             [
              1,
              "#f0f921"
             ]
            ],
            "type": "surface"
           }
          ],
          "table": [
           {
            "cells": {
             "fill": {
              "color": "#EBF0F8"
             },
             "line": {
              "color": "white"
             }
            },
            "header": {
             "fill": {
              "color": "#C8D4E3"
             },
             "line": {
              "color": "white"
             }
            },
            "type": "table"
           }
          ]
         },
         "layout": {
          "annotationdefaults": {
           "arrowcolor": "#2a3f5f",
           "arrowhead": 0,
           "arrowwidth": 1
          },
          "autotypenumbers": "strict",
          "coloraxis": {
           "colorbar": {
            "outlinewidth": 0,
            "ticks": ""
           }
          },
          "colorscale": {
           "diverging": [
            [
             0,
             "#8e0152"
            ],
            [
             0.1,
             "#c51b7d"
            ],
            [
             0.2,
             "#de77ae"
            ],
            [
             0.3,
             "#f1b6da"
            ],
            [
             0.4,
             "#fde0ef"
            ],
            [
             0.5,
             "#f7f7f7"
            ],
            [
             0.6,
             "#e6f5d0"
            ],
            [
             0.7,
             "#b8e186"
            ],
            [
             0.8,
             "#7fbc41"
            ],
            [
             0.9,
             "#4d9221"
            ],
            [
             1,
             "#276419"
            ]
           ],
           "sequential": [
            [
             0,
             "#0d0887"
            ],
            [
             0.1111111111111111,
             "#46039f"
            ],
            [
             0.2222222222222222,
             "#7201a8"
            ],
            [
             0.3333333333333333,
             "#9c179e"
            ],
            [
             0.4444444444444444,
             "#bd3786"
            ],
            [
             0.5555555555555556,
             "#d8576b"
            ],
            [
             0.6666666666666666,
             "#ed7953"
            ],
            [
             0.7777777777777778,
             "#fb9f3a"
            ],
            [
             0.8888888888888888,
             "#fdca26"
            ],
            [
             1,
             "#f0f921"
            ]
           ],
           "sequentialminus": [
            [
             0,
             "#0d0887"
            ],
            [
             0.1111111111111111,
             "#46039f"
            ],
            [
             0.2222222222222222,
             "#7201a8"
            ],
            [
             0.3333333333333333,
             "#9c179e"
            ],
            [
             0.4444444444444444,
             "#bd3786"
            ],
            [
             0.5555555555555556,
             "#d8576b"
            ],
            [
             0.6666666666666666,
             "#ed7953"
            ],
            [
             0.7777777777777778,
             "#fb9f3a"
            ],
            [
             0.8888888888888888,
             "#fdca26"
            ],
            [
             1,
             "#f0f921"
            ]
           ]
          },
          "colorway": [
           "#636efa",
           "#EF553B",
           "#00cc96",
           "#ab63fa",
           "#FFA15A",
           "#19d3f3",
           "#FF6692",
           "#B6E880",
           "#FF97FF",
           "#FECB52"
          ],
          "font": {
           "color": "#2a3f5f"
          },
          "geo": {
           "bgcolor": "white",
           "lakecolor": "white",
           "landcolor": "#E5ECF6",
           "showlakes": true,
           "showland": true,
           "subunitcolor": "white"
          },
          "hoverlabel": {
           "align": "left"
          },
          "hovermode": "closest",
          "mapbox": {
           "style": "light"
          },
          "paper_bgcolor": "white",
          "plot_bgcolor": "#E5ECF6",
          "polar": {
           "angularaxis": {
            "gridcolor": "white",
            "linecolor": "white",
            "ticks": ""
           },
           "bgcolor": "#E5ECF6",
           "radialaxis": {
            "gridcolor": "white",
            "linecolor": "white",
            "ticks": ""
           }
          },
          "scene": {
           "xaxis": {
            "backgroundcolor": "#E5ECF6",
            "gridcolor": "white",
            "gridwidth": 2,
            "linecolor": "white",
            "showbackground": true,
            "ticks": "",
            "zerolinecolor": "white"
           },
           "yaxis": {
            "backgroundcolor": "#E5ECF6",
            "gridcolor": "white",
            "gridwidth": 2,
            "linecolor": "white",
            "showbackground": true,
            "ticks": "",
            "zerolinecolor": "white"
           },
           "zaxis": {
            "backgroundcolor": "#E5ECF6",
            "gridcolor": "white",
            "gridwidth": 2,
            "linecolor": "white",
            "showbackground": true,
            "ticks": "",
            "zerolinecolor": "white"
           }
          },
          "shapedefaults": {
           "line": {
            "color": "#2a3f5f"
           }
          },
          "ternary": {
           "aaxis": {
            "gridcolor": "white",
            "linecolor": "white",
            "ticks": ""
           },
           "baxis": {
            "gridcolor": "white",
            "linecolor": "white",
            "ticks": ""
           },
           "bgcolor": "#E5ECF6",
           "caxis": {
            "gridcolor": "white",
            "linecolor": "white",
            "ticks": ""
           }
          },
          "title": {
           "x": 0.05
          },
          "xaxis": {
           "automargin": true,
           "gridcolor": "white",
           "linecolor": "white",
           "ticks": "",
           "title": {
            "standoff": 15
           },
           "zerolinecolor": "white",
           "zerolinewidth": 2
          },
          "yaxis": {
           "automargin": true,
           "gridcolor": "white",
           "linecolor": "white",
           "ticks": "",
           "title": {
            "standoff": 15
           },
           "zerolinecolor": "white",
           "zerolinewidth": 2
          }
         }
        }
       }
      },
      "text/html": [
       "<div>                            <div id=\"62024abd-8cf5-4c2b-8537-32407e1eb20c\" class=\"plotly-graph-div\" style=\"height:525px; width:100%;\"></div>            <script type=\"text/javascript\">                require([\"plotly\"], function(Plotly) {                    window.PLOTLYENV=window.PLOTLYENV || {};                                    if (document.getElementById(\"62024abd-8cf5-4c2b-8537-32407e1eb20c\")) {                    Plotly.newPlot(                        \"62024abd-8cf5-4c2b-8537-32407e1eb20c\",                        [{\"hovertext\":[\"Rub\\u00e9n Duarte\",\"V\\u00edctor Laguardia\",\"Marc Bartra\",\"Domingos Duarte\",\"Florian Lejeune\",\"Ximo Navarro\",\"Djen\\u00e9\",\"Ra\\u00fal Albiol\",\"Pau Torres\",\"I\\u00f1igo Mart\\u00ednez\",\"Gonzalo Verd\\u00fa\",\"Cl\\u00e9ment Lenglet\",\"R\\u00faben Vezo\",\"Gabriel Paulista\",\"Rapha\\u00ebl Varane\",\"Jorge Pulido\",\"Dimitris Siovas\",\"N\\u00e9stor Araujo\",\"Jeison Murillo\",\"David Garc\\u00eda\",\"Yeray \\u00c1lvarez\",\"Cala\",\"Jules Kound\\u00e9\",\"Diego Carlos\",\"Bruno Gonz\\u00e1lez\",\"Mouctar Diakhaby\",\"Sergio Ramos\",\"Robin Le Normand\",\"Stefan Savi\\u0107\"],\"marker\":{\"color\":\"rgb(12,12,140)\"},\"name\":\"Despejes totales\",\"y\":[3.733333333333333,4.714285714285714,4.833333333333333,3.909090909090909,5.769230769230769,3.230769230769231,5.083333333333333,4.625,3.9375,4.866666666666666,5.0,3.272727272727273,4.666666666666667,6.090909090909091,3.8,3.636363636363636,5.2,5.75,3.7857142857142856,7.071428571428571,5.2727272727272725,5.0,3.909090909090909,4.285714285714286,6.615384615384615,5.181818181818182,3.230769230769231,4.6923076923076925,3.769230769230769],\"type\":\"box\"},{\"hovertext\":[\"Rub\\u00e9n Duarte\",\"V\\u00edctor Laguardia\",\"Marc Bartra\",\"Domingos Duarte\",\"Florian Lejeune\",\"Ximo Navarro\",\"Djen\\u00e9\",\"Ra\\u00fal Albiol\",\"Pau Torres\",\"I\\u00f1igo Mart\\u00ednez\",\"Gonzalo Verd\\u00fa\",\"Cl\\u00e9ment Lenglet\",\"R\\u00faben Vezo\",\"Gabriel Paulista\",\"Rapha\\u00ebl Varane\",\"Jorge Pulido\",\"Dimitris Siovas\",\"N\\u00e9stor Araujo\",\"Jeison Murillo\",\"David Garc\\u00eda\",\"Yeray \\u00c1lvarez\",\"Cala\",\"Jules Kound\\u00e9\",\"Diego Carlos\",\"Bruno Gonz\\u00e1lez\",\"Mouctar Diakhaby\",\"Sergio Ramos\",\"Robin Le Normand\",\"Stefan Savi\\u0107\"],\"marker\":{\"color\":\"rgb(12,128,128)\"},\"name\":\"Recuperaciones totales\",\"y\":[9.6,9.071428571428571,10.416666666666666,10.545454545454543,10.846153846153848,9.461538461538462,14.666666666666666,9.125,10.25,10.6,7.214285714285714,10.454545454545457,9.333333333333334,8.363636363636363,8.466666666666667,11.272727272727272,10.133333333333333,10.333333333333334,10.285714285714286,15.071428571428571,10.818181818181818,9.75,9.272727272727272,8.642857142857142,8.923076923076923,6.909090909090909,10.461538461538462,12.538461538461538,10.615384615384617],\"type\":\"box\"},{\"hovertext\":[\"Rub\\u00e9n Duarte\",\"V\\u00edctor Laguardia\",\"Marc Bartra\",\"Domingos Duarte\",\"Florian Lejeune\",\"Ximo Navarro\",\"Djen\\u00e9\",\"Ra\\u00fal Albiol\",\"Pau Torres\",\"I\\u00f1igo Mart\\u00ednez\",\"Gonzalo Verd\\u00fa\",\"Cl\\u00e9ment Lenglet\",\"R\\u00faben Vezo\",\"Gabriel Paulista\",\"Rapha\\u00ebl Varane\",\"Jorge Pulido\",\"Dimitris Siovas\",\"N\\u00e9stor Araujo\",\"Jeison Murillo\",\"David Garc\\u00eda\",\"Yeray \\u00c1lvarez\",\"Cala\",\"Jules Kound\\u00e9\",\"Diego Carlos\",\"Bruno Gonz\\u00e1lez\",\"Mouctar Diakhaby\",\"Sergio Ramos\",\"Robin Le Normand\",\"Stefan Savi\\u0107\"],\"marker\":{\"color\":\"orange\"},\"name\":\"Intercepciones de bal\\u00f3n\",\"y\":[1.2,0.8571428571428571,1.3333333333333333,0.7272727272727273,1.1538461538461535,1.4615384615384617,0.75,0.5625,0.625,0.6,0.9285714285714286,1.0,1.0,1.5454545454545454,1.4,0.5454545454545454,0.8666666666666667,1.1666666666666667,0.7142857142857143,1.0,1.7272727272727273,0.6666666666666666,0.9090909090909092,0.5,1.0769230769230769,0.0909090909090909,1.1538461538461535,0.8461538461538461,0.8461538461538461],\"type\":\"box\"},{\"hovertext\":[\"Rub\\u00e9n Duarte\",\"V\\u00edctor Laguardia\",\"Marc Bartra\",\"Domingos Duarte\",\"Florian Lejeune\",\"Ximo Navarro\",\"Djen\\u00e9\",\"Ra\\u00fal Albiol\",\"Pau Torres\",\"I\\u00f1igo Mart\\u00ednez\",\"Gonzalo Verd\\u00fa\",\"Cl\\u00e9ment Lenglet\",\"R\\u00faben Vezo\",\"Gabriel Paulista\",\"Rapha\\u00ebl Varane\",\"Jorge Pulido\",\"Dimitris Siovas\",\"N\\u00e9stor Araujo\",\"Jeison Murillo\",\"David Garc\\u00eda\",\"Yeray \\u00c1lvarez\",\"Cala\",\"Jules Kound\\u00e9\",\"Diego Carlos\",\"Bruno Gonz\\u00e1lez\",\"Mouctar Diakhaby\",\"Sergio Ramos\",\"Robin Le Normand\",\"Stefan Savi\\u0107\"],\"marker\":{\"color\":\"red\"},\"name\":\"Disparos bloqueados\",\"y\":[45.0,20.0,21.0,17.0,20.0,24.0,14.0,17.0,30.0,16.0,28.0,16.0,21.0,20.0,21.0,19.0,26.0,16.0,18.0,20.0,7.0,12.0,17.0,18.0,17.0,30.0,17.0,17.0,14.0],\"type\":\"box\"},{\"hovertext\":[\"Rub\\u00e9n Duarte\",\"V\\u00edctor Laguardia\",\"Marc Bartra\",\"Domingos Duarte\",\"Florian Lejeune\",\"Ximo Navarro\",\"Djen\\u00e9\",\"Ra\\u00fal Albiol\",\"Pau Torres\",\"I\\u00f1igo Mart\\u00ednez\",\"Gonzalo Verd\\u00fa\",\"Cl\\u00e9ment Lenglet\",\"R\\u00faben Vezo\",\"Gabriel Paulista\",\"Rapha\\u00ebl Varane\",\"Jorge Pulido\",\"Dimitris Siovas\",\"N\\u00e9stor Araujo\",\"Jeison Murillo\",\"David Garc\\u00eda\",\"Yeray \\u00c1lvarez\",\"Cala\",\"Jules Kound\\u00e9\",\"Diego Carlos\",\"Bruno Gonz\\u00e1lez\",\"Mouctar Diakhaby\",\"Sergio Ramos\",\"Robin Le Normand\",\"Stefan Savi\\u0107\"],\"marker\":{\"color\":\"midnightblue\"},\"name\":\"Goles encajados por partido\",\"y\":[14.088888888888889,12.302083333333332,14.77777777777778,13.444444444444446,11.71875,11.09375,8.25,16.76388888888889,17.0,15.9375,14.875,6.966666666666667,9.659722222222223,12.375,13.125,13.0625,22.5,11.380555555555556,19.08194444444445,17.5,10.3125,9.34375,4.8125,8.67361111111111,13.8125,11.7875,9.375,7.24375,4.0625],\"type\":\"box\"}],                        {\"template\":{\"data\":{\"barpolar\":[{\"marker\":{\"line\":{\"color\":\"#E5ECF6\",\"width\":0.5},\"pattern\":{\"fillmode\":\"overlay\",\"size\":10,\"solidity\":0.2}},\"type\":\"barpolar\"}],\"bar\":[{\"error_x\":{\"color\":\"#2a3f5f\"},\"error_y\":{\"color\":\"#2a3f5f\"},\"marker\":{\"line\":{\"color\":\"#E5ECF6\",\"width\":0.5},\"pattern\":{\"fillmode\":\"overlay\",\"size\":10,\"solidity\":0.2}},\"type\":\"bar\"}],\"carpet\":[{\"aaxis\":{\"endlinecolor\":\"#2a3f5f\",\"gridcolor\":\"white\",\"linecolor\":\"white\",\"minorgridcolor\":\"white\",\"startlinecolor\":\"#2a3f5f\"},\"baxis\":{\"endlinecolor\":\"#2a3f5f\",\"gridcolor\":\"white\",\"linecolor\":\"white\",\"minorgridcolor\":\"white\",\"startlinecolor\":\"#2a3f5f\"},\"type\":\"carpet\"}],\"choropleth\":[{\"colorbar\":{\"outlinewidth\":0,\"ticks\":\"\"},\"type\":\"choropleth\"}],\"contourcarpet\":[{\"colorbar\":{\"outlinewidth\":0,\"ticks\":\"\"},\"type\":\"contourcarpet\"}],\"contour\":[{\"colorbar\":{\"outlinewidth\":0,\"ticks\":\"\"},\"colorscale\":[[0.0,\"#0d0887\"],[0.1111111111111111,\"#46039f\"],[0.2222222222222222,\"#7201a8\"],[0.3333333333333333,\"#9c179e\"],[0.4444444444444444,\"#bd3786\"],[0.5555555555555556,\"#d8576b\"],[0.6666666666666666,\"#ed7953\"],[0.7777777777777778,\"#fb9f3a\"],[0.8888888888888888,\"#fdca26\"],[1.0,\"#f0f921\"]],\"type\":\"contour\"}],\"heatmapgl\":[{\"colorbar\":{\"outlinewidth\":0,\"ticks\":\"\"},\"colorscale\":[[0.0,\"#0d0887\"],[0.1111111111111111,\"#46039f\"],[0.2222222222222222,\"#7201a8\"],[0.3333333333333333,\"#9c179e\"],[0.4444444444444444,\"#bd3786\"],[0.5555555555555556,\"#d8576b\"],[0.6666666666666666,\"#ed7953\"],[0.7777777777777778,\"#fb9f3a\"],[0.8888888888888888,\"#fdca26\"],[1.0,\"#f0f921\"]],\"type\":\"heatmapgl\"}],\"heatmap\":[{\"colorbar\":{\"outlinewidth\":0,\"ticks\":\"\"},\"colorscale\":[[0.0,\"#0d0887\"],[0.1111111111111111,\"#46039f\"],[0.2222222222222222,\"#7201a8\"],[0.3333333333333333,\"#9c179e\"],[0.4444444444444444,\"#bd3786\"],[0.5555555555555556,\"#d8576b\"],[0.6666666666666666,\"#ed7953\"],[0.7777777777777778,\"#fb9f3a\"],[0.8888888888888888,\"#fdca26\"],[1.0,\"#f0f921\"]],\"type\":\"heatmap\"}],\"histogram2dcontour\":[{\"colorbar\":{\"outlinewidth\":0,\"ticks\":\"\"},\"colorscale\":[[0.0,\"#0d0887\"],[0.1111111111111111,\"#46039f\"],[0.2222222222222222,\"#7201a8\"],[0.3333333333333333,\"#9c179e\"],[0.4444444444444444,\"#bd3786\"],[0.5555555555555556,\"#d8576b\"],[0.6666666666666666,\"#ed7953\"],[0.7777777777777778,\"#fb9f3a\"],[0.8888888888888888,\"#fdca26\"],[1.0,\"#f0f921\"]],\"type\":\"histogram2dcontour\"}],\"histogram2d\":[{\"colorbar\":{\"outlinewidth\":0,\"ticks\":\"\"},\"colorscale\":[[0.0,\"#0d0887\"],[0.1111111111111111,\"#46039f\"],[0.2222222222222222,\"#7201a8\"],[0.3333333333333333,\"#9c179e\"],[0.4444444444444444,\"#bd3786\"],[0.5555555555555556,\"#d8576b\"],[0.6666666666666666,\"#ed7953\"],[0.7777777777777778,\"#fb9f3a\"],[0.8888888888888888,\"#fdca26\"],[1.0,\"#f0f921\"]],\"type\":\"histogram2d\"}],\"histogram\":[{\"marker\":{\"pattern\":{\"fillmode\":\"overlay\",\"size\":10,\"solidity\":0.2}},\"type\":\"histogram\"}],\"mesh3d\":[{\"colorbar\":{\"outlinewidth\":0,\"ticks\":\"\"},\"type\":\"mesh3d\"}],\"parcoords\":[{\"line\":{\"colorbar\":{\"outlinewidth\":0,\"ticks\":\"\"}},\"type\":\"parcoords\"}],\"pie\":[{\"automargin\":true,\"type\":\"pie\"}],\"scatter3d\":[{\"line\":{\"colorbar\":{\"outlinewidth\":0,\"ticks\":\"\"}},\"marker\":{\"colorbar\":{\"outlinewidth\":0,\"ticks\":\"\"}},\"type\":\"scatter3d\"}],\"scattercarpet\":[{\"marker\":{\"colorbar\":{\"outlinewidth\":0,\"ticks\":\"\"}},\"type\":\"scattercarpet\"}],\"scattergeo\":[{\"marker\":{\"colorbar\":{\"outlinewidth\":0,\"ticks\":\"\"}},\"type\":\"scattergeo\"}],\"scattergl\":[{\"marker\":{\"colorbar\":{\"outlinewidth\":0,\"ticks\":\"\"}},\"type\":\"scattergl\"}],\"scattermapbox\":[{\"marker\":{\"colorbar\":{\"outlinewidth\":0,\"ticks\":\"\"}},\"type\":\"scattermapbox\"}],\"scatterpolargl\":[{\"marker\":{\"colorbar\":{\"outlinewidth\":0,\"ticks\":\"\"}},\"type\":\"scatterpolargl\"}],\"scatterpolar\":[{\"marker\":{\"colorbar\":{\"outlinewidth\":0,\"ticks\":\"\"}},\"type\":\"scatterpolar\"}],\"scatter\":[{\"fillpattern\":{\"fillmode\":\"overlay\",\"size\":10,\"solidity\":0.2},\"type\":\"scatter\"}],\"scatterternary\":[{\"marker\":{\"colorbar\":{\"outlinewidth\":0,\"ticks\":\"\"}},\"type\":\"scatterternary\"}],\"surface\":[{\"colorbar\":{\"outlinewidth\":0,\"ticks\":\"\"},\"colorscale\":[[0.0,\"#0d0887\"],[0.1111111111111111,\"#46039f\"],[0.2222222222222222,\"#7201a8\"],[0.3333333333333333,\"#9c179e\"],[0.4444444444444444,\"#bd3786\"],[0.5555555555555556,\"#d8576b\"],[0.6666666666666666,\"#ed7953\"],[0.7777777777777778,\"#fb9f3a\"],[0.8888888888888888,\"#fdca26\"],[1.0,\"#f0f921\"]],\"type\":\"surface\"}],\"table\":[{\"cells\":{\"fill\":{\"color\":\"#EBF0F8\"},\"line\":{\"color\":\"white\"}},\"header\":{\"fill\":{\"color\":\"#C8D4E3\"},\"line\":{\"color\":\"white\"}},\"type\":\"table\"}]},\"layout\":{\"annotationdefaults\":{\"arrowcolor\":\"#2a3f5f\",\"arrowhead\":0,\"arrowwidth\":1},\"autotypenumbers\":\"strict\",\"coloraxis\":{\"colorbar\":{\"outlinewidth\":0,\"ticks\":\"\"}},\"colorscale\":{\"diverging\":[[0,\"#8e0152\"],[0.1,\"#c51b7d\"],[0.2,\"#de77ae\"],[0.3,\"#f1b6da\"],[0.4,\"#fde0ef\"],[0.5,\"#f7f7f7\"],[0.6,\"#e6f5d0\"],[0.7,\"#b8e186\"],[0.8,\"#7fbc41\"],[0.9,\"#4d9221\"],[1,\"#276419\"]],\"sequential\":[[0.0,\"#0d0887\"],[0.1111111111111111,\"#46039f\"],[0.2222222222222222,\"#7201a8\"],[0.3333333333333333,\"#9c179e\"],[0.4444444444444444,\"#bd3786\"],[0.5555555555555556,\"#d8576b\"],[0.6666666666666666,\"#ed7953\"],[0.7777777777777778,\"#fb9f3a\"],[0.8888888888888888,\"#fdca26\"],[1.0,\"#f0f921\"]],\"sequentialminus\":[[0.0,\"#0d0887\"],[0.1111111111111111,\"#46039f\"],[0.2222222222222222,\"#7201a8\"],[0.3333333333333333,\"#9c179e\"],[0.4444444444444444,\"#bd3786\"],[0.5555555555555556,\"#d8576b\"],[0.6666666666666666,\"#ed7953\"],[0.7777777777777778,\"#fb9f3a\"],[0.8888888888888888,\"#fdca26\"],[1.0,\"#f0f921\"]]},\"colorway\":[\"#636efa\",\"#EF553B\",\"#00cc96\",\"#ab63fa\",\"#FFA15A\",\"#19d3f3\",\"#FF6692\",\"#B6E880\",\"#FF97FF\",\"#FECB52\"],\"font\":{\"color\":\"#2a3f5f\"},\"geo\":{\"bgcolor\":\"white\",\"lakecolor\":\"white\",\"landcolor\":\"#E5ECF6\",\"showlakes\":true,\"showland\":true,\"subunitcolor\":\"white\"},\"hoverlabel\":{\"align\":\"left\"},\"hovermode\":\"closest\",\"mapbox\":{\"style\":\"light\"},\"paper_bgcolor\":\"white\",\"plot_bgcolor\":\"#E5ECF6\",\"polar\":{\"angularaxis\":{\"gridcolor\":\"white\",\"linecolor\":\"white\",\"ticks\":\"\"},\"bgcolor\":\"#E5ECF6\",\"radialaxis\":{\"gridcolor\":\"white\",\"linecolor\":\"white\",\"ticks\":\"\"}},\"scene\":{\"xaxis\":{\"backgroundcolor\":\"#E5ECF6\",\"gridcolor\":\"white\",\"gridwidth\":2,\"linecolor\":\"white\",\"showbackground\":true,\"ticks\":\"\",\"zerolinecolor\":\"white\"},\"yaxis\":{\"backgroundcolor\":\"#E5ECF6\",\"gridcolor\":\"white\",\"gridwidth\":2,\"linecolor\":\"white\",\"showbackground\":true,\"ticks\":\"\",\"zerolinecolor\":\"white\"},\"zaxis\":{\"backgroundcolor\":\"#E5ECF6\",\"gridcolor\":\"white\",\"gridwidth\":2,\"linecolor\":\"white\",\"showbackground\":true,\"ticks\":\"\",\"zerolinecolor\":\"white\"}},\"shapedefaults\":{\"line\":{\"color\":\"#2a3f5f\"}},\"ternary\":{\"aaxis\":{\"gridcolor\":\"white\",\"linecolor\":\"white\",\"ticks\":\"\"},\"baxis\":{\"gridcolor\":\"white\",\"linecolor\":\"white\",\"ticks\":\"\"},\"bgcolor\":\"#E5ECF6\",\"caxis\":{\"gridcolor\":\"white\",\"linecolor\":\"white\",\"ticks\":\"\"}},\"title\":{\"x\":0.05},\"xaxis\":{\"automargin\":true,\"gridcolor\":\"white\",\"linecolor\":\"white\",\"ticks\":\"\",\"title\":{\"standoff\":15},\"zerolinecolor\":\"white\",\"zerolinewidth\":2},\"yaxis\":{\"automargin\":true,\"gridcolor\":\"white\",\"linecolor\":\"white\",\"ticks\":\"\",\"title\":{\"standoff\":15},\"zerolinecolor\":\"white\",\"zerolinewidth\":2}}}},                        {\"responsive\": true}                    ).then(function(){\n",
       "                            \n",
       "var gd = document.getElementById('62024abd-8cf5-4c2b-8537-32407e1eb20c');\n",
       "var x = new MutationObserver(function (mutations, observer) {{\n",
       "        var display = window.getComputedStyle(gd).display;\n",
       "        if (!display || display === 'none') {{\n",
       "            console.log([gd, 'removed!']);\n",
       "            Plotly.purge(gd);\n",
       "            observer.disconnect();\n",
       "        }}\n",
       "}});\n",
       "\n",
       "// Listen for the removal of the full notebook cells\n",
       "var notebookContainer = gd.closest('#notebook-container');\n",
       "if (notebookContainer) {{\n",
       "    x.observe(notebookContainer, {childList: true});\n",
       "}}\n",
       "\n",
       "// Listen for the clearing of the current output cell\n",
       "var outputEl = gd.closest('.output');\n",
       "if (outputEl) {{\n",
       "    x.observe(outputEl, {childList: true});\n",
       "}}\n",
       "\n",
       "                        })                };                });            </script>        </div>"
      ]
     },
     "metadata": {},
     "output_type": "display_data"
    }
   ],
   "source": [
    "trace0 = go.Box(y = df_def['Despejes'],\n",
    "                name = 'Despejes totales',\n",
    "               marker = dict(color = 'rgb(12,12,140)'),\n",
    "               hovertext= df_def['Player'])\n",
    "\n",
    "trace1 = go.Box(y = df_def['Recuperaciones'],\n",
    "                name = 'Recuperaciones totales',\n",
    "               marker = dict(color = 'rgb(12,128,128)'),\n",
    "               hovertext= df_def['Player'])\n",
    "\n",
    "trace2 = go.Box(y=df_def['Intercepciones de balón'],\n",
    "                 name = 'Intercepciones de balón',\n",
    "               marker_color = 'orange',\n",
    "               hovertext= df_def['Player'])\n",
    "trace3 = go.Box(y=df_def['Disparos bloqueados'],\n",
    "                 name = 'Disparos bloqueados',\n",
    "               marker_color = 'red',\n",
    "               hovertext= df_def['Player'])\n",
    "trace4 = go.Box(y=df_def['Goles encajados por partido'],\n",
    "                 name = 'Goles encajados por partido',\n",
    "               marker_color = 'midnightblue',\n",
    "               hovertext= df_def['Player'])\n",
    "\n",
    "\n",
    "\n",
    "data = [trace0, trace1, trace2, trace3, trace4]\n",
    "iplot(data)"
   ]
  }
 ],
 "metadata": {
  "kernelspec": {
   "display_name": "Python 3.10.6 64-bit",
   "language": "python",
   "name": "python3"
  },
  "language_info": {
   "codemirror_mode": {
    "name": "ipython",
    "version": 3
   },
   "file_extension": ".py",
   "mimetype": "text/x-python",
   "name": "python",
   "nbconvert_exporter": "python",
   "pygments_lexer": "ipython3",
   "version": "3.10.6"
  },
  "orig_nbformat": 4,
  "vscode": {
   "interpreter": {
    "hash": "aee8b7b246df8f9039afb4144a1f6fd8d2ca17a180786b69acc140d282b71a49"
   }
  }
 },
 "nbformat": 4,
 "nbformat_minor": 2
}
