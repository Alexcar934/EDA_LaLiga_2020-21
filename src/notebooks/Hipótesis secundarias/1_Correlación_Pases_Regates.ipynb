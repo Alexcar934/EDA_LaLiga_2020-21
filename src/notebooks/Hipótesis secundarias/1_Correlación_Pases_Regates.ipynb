{
 "cells": [
  {
   "cell_type": "markdown",
   "metadata": {},
   "source": [
    "##### En este notebook se va a obtener la correlación entre los pases y los regates acertados por jugador"
   ]
  },
  {
   "cell_type": "code",
   "execution_count": 1,
   "metadata": {},
   "outputs": [],
   "source": [
    "#!pip install plotly"
   ]
  },
  {
   "cell_type": "markdown",
   "metadata": {},
   "source": [
    "Importamos librerías"
   ]
  },
  {
   "cell_type": "code",
   "execution_count": 2,
   "metadata": {},
   "outputs": [
    {
     "data": {
      "text/html": [
       "        <script type=\"text/javascript\">\n",
       "        window.PlotlyConfig = {MathJaxConfig: 'local'};\n",
       "        if (window.MathJax && window.MathJax.Hub && window.MathJax.Hub.Config) {window.MathJax.Hub.Config({SVG: {font: \"STIX-Web\"}});}\n",
       "        if (typeof require !== 'undefined') {\n",
       "        require.undef(\"plotly\");\n",
       "        requirejs.config({\n",
       "            paths: {\n",
       "                'plotly': ['https://cdn.plot.ly/plotly-2.14.0.min']\n",
       "            }\n",
       "        });\n",
       "        require(['plotly'], function(Plotly) {\n",
       "            window._Plotly = Plotly;\n",
       "        });\n",
       "        }\n",
       "        </script>\n",
       "        "
      ]
     },
     "metadata": {},
     "output_type": "display_data"
    },
    {
     "name": "stdout",
     "output_type": "stream",
     "text": [
      "['cb_plots_HS.ipynb', '4_Boxplot.ipynb', 'cm_plots_HS.ipynb', '.DS_Store', '2_Pases_Puntos.ipynb', '1_Pases_Regates.ipynb', 'despejes_golesencajados_HS.ipynb', 'eda_cb_despejes_goles.ipynb', '1_Correlación_Pases_Regates.ipynb', '1_Pases_Regates_Equipo.ipynb', '4_Defensas_Sobresalientes.ipynb']\n"
     ]
    }
   ],
   "source": [
    "import pandas as pd\n",
    "\n",
    "from plotly.offline import init_notebook_mode, iplot\n",
    "import plotly as py\n",
    "init_notebook_mode(connected=True)\n",
    "import plotly.graph_objs as go\n",
    "\n",
    "import os\n",
    "print(os.listdir())"
   ]
  },
  {
   "cell_type": "markdown",
   "metadata": {},
   "source": [
    "Importamos el CSV de pases y regates"
   ]
  },
  {
   "cell_type": "code",
   "execution_count": 3,
   "metadata": {},
   "outputs": [
    {
     "data": {
      "text/html": [
       "<div>\n",
       "<style scoped>\n",
       "    .dataframe tbody tr th:only-of-type {\n",
       "        vertical-align: middle;\n",
       "    }\n",
       "\n",
       "    .dataframe tbody tr th {\n",
       "        vertical-align: top;\n",
       "    }\n",
       "\n",
       "    .dataframe thead th {\n",
       "        text-align: right;\n",
       "    }\n",
       "</style>\n",
       "<table border=\"1\" class=\"dataframe\">\n",
       "  <thead>\n",
       "    <tr style=\"text-align: right;\">\n",
       "      <th></th>\n",
       "      <th>Jugador</th>\n",
       "      <th>Regates Acertados</th>\n",
       "      <th>Pases Acertados</th>\n",
       "    </tr>\n",
       "  </thead>\n",
       "  <tbody>\n",
       "    <tr>\n",
       "      <th>0</th>\n",
       "      <td>Luka Modrić</td>\n",
       "      <td>20.330556</td>\n",
       "      <td>652.141667</td>\n",
       "    </tr>\n",
       "    <tr>\n",
       "      <th>1</th>\n",
       "      <td>Renato Tapia</td>\n",
       "      <td>12.862500</td>\n",
       "      <td>538.387500</td>\n",
       "    </tr>\n",
       "    <tr>\n",
       "      <th>2</th>\n",
       "      <td>Álex Berenguer</td>\n",
       "      <td>11.010417</td>\n",
       "      <td>120.065972</td>\n",
       "    </tr>\n",
       "    <tr>\n",
       "      <th>3</th>\n",
       "      <td>Mikel Merino</td>\n",
       "      <td>10.775000</td>\n",
       "      <td>492.956250</td>\n",
       "    </tr>\n",
       "    <tr>\n",
       "      <th>4</th>\n",
       "      <td>Borja García</td>\n",
       "      <td>9.025000</td>\n",
       "      <td>151.920833</td>\n",
       "    </tr>\n",
       "    <tr>\n",
       "      <th>5</th>\n",
       "      <td>Denis Suárez</td>\n",
       "      <td>8.818056</td>\n",
       "      <td>309.891667</td>\n",
       "    </tr>\n",
       "    <tr>\n",
       "      <th>6</th>\n",
       "      <td>Nolito</td>\n",
       "      <td>8.708333</td>\n",
       "      <td>217.708333</td>\n",
       "    </tr>\n",
       "    <tr>\n",
       "      <th>7</th>\n",
       "      <td>Raúl Guti</td>\n",
       "      <td>7.953472</td>\n",
       "      <td>190.883333</td>\n",
       "    </tr>\n",
       "    <tr>\n",
       "      <th>8</th>\n",
       "      <td>Guido Rodríguez</td>\n",
       "      <td>7.826389</td>\n",
       "      <td>457.843750</td>\n",
       "    </tr>\n",
       "    <tr>\n",
       "      <th>9</th>\n",
       "      <td>Fidel</td>\n",
       "      <td>7.312500</td>\n",
       "      <td>153.562500</td>\n",
       "    </tr>\n",
       "    <tr>\n",
       "      <th>10</th>\n",
       "      <td>Frenkie de Jong</td>\n",
       "      <td>7.136111</td>\n",
       "      <td>267.604167</td>\n",
       "    </tr>\n",
       "    <tr>\n",
       "      <th>11</th>\n",
       "      <td>Federico Valverde</td>\n",
       "      <td>6.912500</td>\n",
       "      <td>192.068750</td>\n",
       "    </tr>\n",
       "    <tr>\n",
       "      <th>12</th>\n",
       "      <td>Edu Expósito</td>\n",
       "      <td>6.581250</td>\n",
       "      <td>255.937500</td>\n",
       "    </tr>\n",
       "    <tr>\n",
       "      <th>13</th>\n",
       "      <td>Pedro Mosquera</td>\n",
       "      <td>6.557639</td>\n",
       "      <td>662.321528</td>\n",
       "    </tr>\n",
       "    <tr>\n",
       "      <th>14</th>\n",
       "      <td>Gonzalo Melero</td>\n",
       "      <td>6.437500</td>\n",
       "      <td>305.781250</td>\n",
       "    </tr>\n",
       "    <tr>\n",
       "      <th>15</th>\n",
       "      <td>David Silva</td>\n",
       "      <td>6.383333</td>\n",
       "      <td>219.693056</td>\n",
       "    </tr>\n",
       "    <tr>\n",
       "      <th>16</th>\n",
       "      <td>Manu Trigueros</td>\n",
       "      <td>6.248611</td>\n",
       "      <td>273.802778</td>\n",
       "    </tr>\n",
       "    <tr>\n",
       "      <th>17</th>\n",
       "      <td>Mauro Arambarri</td>\n",
       "      <td>6.175000</td>\n",
       "      <td>157.119444</td>\n",
       "    </tr>\n",
       "    <tr>\n",
       "      <th>18</th>\n",
       "      <td>Yangel Herrera</td>\n",
       "      <td>5.987500</td>\n",
       "      <td>169.645833</td>\n",
       "    </tr>\n",
       "    <tr>\n",
       "      <th>19</th>\n",
       "      <td>William Carvalho</td>\n",
       "      <td>5.675000</td>\n",
       "      <td>385.900000</td>\n",
       "    </tr>\n",
       "    <tr>\n",
       "      <th>20</th>\n",
       "      <td>Tomás Pina Isla</td>\n",
       "      <td>5.616667</td>\n",
       "      <td>195.179167</td>\n",
       "    </tr>\n",
       "    <tr>\n",
       "      <th>21</th>\n",
       "      <td>Daniel Parejo</td>\n",
       "      <td>5.394444</td>\n",
       "      <td>530.004167</td>\n",
       "    </tr>\n",
       "    <tr>\n",
       "      <th>22</th>\n",
       "      <td>Iván Marcone</td>\n",
       "      <td>5.261111</td>\n",
       "      <td>409.709028</td>\n",
       "    </tr>\n",
       "    <tr>\n",
       "      <th>23</th>\n",
       "      <td>Luis Milla</td>\n",
       "      <td>5.077778</td>\n",
       "      <td>193.590278</td>\n",
       "    </tr>\n",
       "    <tr>\n",
       "      <th>24</th>\n",
       "      <td>Pedri</td>\n",
       "      <td>4.255556</td>\n",
       "      <td>218.097222</td>\n",
       "    </tr>\n",
       "    <tr>\n",
       "      <th>25</th>\n",
       "      <td>Carlos Soler</td>\n",
       "      <td>4.166667</td>\n",
       "      <td>272.916667</td>\n",
       "    </tr>\n",
       "    <tr>\n",
       "      <th>26</th>\n",
       "      <td>Toni Kroos</td>\n",
       "      <td>4.161111</td>\n",
       "      <td>449.400000</td>\n",
       "    </tr>\n",
       "    <tr>\n",
       "      <th>27</th>\n",
       "      <td>Sergio Busquets</td>\n",
       "      <td>3.654167</td>\n",
       "      <td>478.086806</td>\n",
       "    </tr>\n",
       "    <tr>\n",
       "      <th>28</th>\n",
       "      <td>Maxime Gonalons</td>\n",
       "      <td>3.451389</td>\n",
       "      <td>157.777778</td>\n",
       "    </tr>\n",
       "    <tr>\n",
       "      <th>29</th>\n",
       "      <td>Rodrigo Battaglia</td>\n",
       "      <td>3.152778</td>\n",
       "      <td>245.916667</td>\n",
       "    </tr>\n",
       "    <tr>\n",
       "      <th>30</th>\n",
       "      <td>Ivan Rakitić</td>\n",
       "      <td>2.795139</td>\n",
       "      <td>281.750000</td>\n",
       "    </tr>\n",
       "    <tr>\n",
       "      <th>31</th>\n",
       "      <td>Rubén Alcaraz</td>\n",
       "      <td>2.753472</td>\n",
       "      <td>170.715278</td>\n",
       "    </tr>\n",
       "    <tr>\n",
       "      <th>32</th>\n",
       "      <td>Martín Zubimendi</td>\n",
       "      <td>2.711806</td>\n",
       "      <td>227.791667</td>\n",
       "    </tr>\n",
       "    <tr>\n",
       "      <th>33</th>\n",
       "      <td>Saúl Ñíguez</td>\n",
       "      <td>2.654167</td>\n",
       "      <td>154.826389</td>\n",
       "    </tr>\n",
       "    <tr>\n",
       "      <th>34</th>\n",
       "      <td>Koke</td>\n",
       "      <td>2.266667</td>\n",
       "      <td>337.166667</td>\n",
       "    </tr>\n",
       "    <tr>\n",
       "      <th>35</th>\n",
       "      <td>Joan Jordán</td>\n",
       "      <td>2.258333</td>\n",
       "      <td>333.668750</td>\n",
       "    </tr>\n",
       "    <tr>\n",
       "      <th>36</th>\n",
       "      <td>Néstor Araujo</td>\n",
       "      <td>2.052083</td>\n",
       "      <td>346.118056</td>\n",
       "    </tr>\n",
       "    <tr>\n",
       "      <th>37</th>\n",
       "      <td>Mikel Vesga</td>\n",
       "      <td>1.933333</td>\n",
       "      <td>136.783333</td>\n",
       "    </tr>\n",
       "    <tr>\n",
       "      <th>38</th>\n",
       "      <td>Unai López</td>\n",
       "      <td>1.802778</td>\n",
       "      <td>175.770833</td>\n",
       "    </tr>\n",
       "    <tr>\n",
       "      <th>39</th>\n",
       "      <td>Mickael Malsa</td>\n",
       "      <td>1.677083</td>\n",
       "      <td>226.406250</td>\n",
       "    </tr>\n",
       "    <tr>\n",
       "      <th>40</th>\n",
       "      <td>Vicente Iborra</td>\n",
       "      <td>1.558333</td>\n",
       "      <td>209.855556</td>\n",
       "    </tr>\n",
       "    <tr>\n",
       "      <th>41</th>\n",
       "      <td>Joseph Aidoo</td>\n",
       "      <td>1.443750</td>\n",
       "      <td>135.712500</td>\n",
       "    </tr>\n",
       "    <tr>\n",
       "      <th>42</th>\n",
       "      <td>Sergio Álvarez</td>\n",
       "      <td>1.184722</td>\n",
       "      <td>169.415278</td>\n",
       "    </tr>\n",
       "    <tr>\n",
       "      <th>43</th>\n",
       "      <td>Dani García</td>\n",
       "      <td>1.112500</td>\n",
       "      <td>197.468750</td>\n",
       "    </tr>\n",
       "    <tr>\n",
       "      <th>44</th>\n",
       "      <td>Ander Guevara</td>\n",
       "      <td>1.093056</td>\n",
       "      <td>238.286111</td>\n",
       "    </tr>\n",
       "    <tr>\n",
       "      <th>45</th>\n",
       "      <td>Iñigo Pérez</td>\n",
       "      <td>0.509722</td>\n",
       "      <td>142.722222</td>\n",
       "    </tr>\n",
       "    <tr>\n",
       "      <th>46</th>\n",
       "      <td>Oier Sanjurjo</td>\n",
       "      <td>0.000000</td>\n",
       "      <td>175.184722</td>\n",
       "    </tr>\n",
       "  </tbody>\n",
       "</table>\n",
       "</div>"
      ],
      "text/plain": [
       "              Jugador  Regates Acertados  Pases Acertados\n",
       "0         Luka Modrić          20.330556       652.141667\n",
       "1        Renato Tapia          12.862500       538.387500\n",
       "2      Álex Berenguer          11.010417       120.065972\n",
       "3        Mikel Merino          10.775000       492.956250\n",
       "4        Borja García           9.025000       151.920833\n",
       "5        Denis Suárez           8.818056       309.891667\n",
       "6              Nolito           8.708333       217.708333\n",
       "7           Raúl Guti           7.953472       190.883333\n",
       "8     Guido Rodríguez           7.826389       457.843750\n",
       "9               Fidel           7.312500       153.562500\n",
       "10    Frenkie de Jong           7.136111       267.604167\n",
       "11  Federico Valverde           6.912500       192.068750\n",
       "12       Edu Expósito           6.581250       255.937500\n",
       "13     Pedro Mosquera           6.557639       662.321528\n",
       "14     Gonzalo Melero           6.437500       305.781250\n",
       "15        David Silva           6.383333       219.693056\n",
       "16     Manu Trigueros           6.248611       273.802778\n",
       "17    Mauro Arambarri           6.175000       157.119444\n",
       "18     Yangel Herrera           5.987500       169.645833\n",
       "19   William Carvalho           5.675000       385.900000\n",
       "20    Tomás Pina Isla           5.616667       195.179167\n",
       "21      Daniel Parejo           5.394444       530.004167\n",
       "22       Iván Marcone           5.261111       409.709028\n",
       "23         Luis Milla           5.077778       193.590278\n",
       "24              Pedri           4.255556       218.097222\n",
       "25       Carlos Soler           4.166667       272.916667\n",
       "26         Toni Kroos           4.161111       449.400000\n",
       "27    Sergio Busquets           3.654167       478.086806\n",
       "28    Maxime Gonalons           3.451389       157.777778\n",
       "29  Rodrigo Battaglia           3.152778       245.916667\n",
       "30       Ivan Rakitić           2.795139       281.750000\n",
       "31      Rubén Alcaraz           2.753472       170.715278\n",
       "32   Martín Zubimendi           2.711806       227.791667\n",
       "33        Saúl Ñíguez           2.654167       154.826389\n",
       "34               Koke           2.266667       337.166667\n",
       "35        Joan Jordán           2.258333       333.668750\n",
       "36      Néstor Araujo           2.052083       346.118056\n",
       "37        Mikel Vesga           1.933333       136.783333\n",
       "38         Unai López           1.802778       175.770833\n",
       "39      Mickael Malsa           1.677083       226.406250\n",
       "40     Vicente Iborra           1.558333       209.855556\n",
       "41       Joseph Aidoo           1.443750       135.712500\n",
       "42     Sergio Álvarez           1.184722       169.415278\n",
       "43        Dani García           1.112500       197.468750\n",
       "44      Ander Guevara           1.093056       238.286111\n",
       "45        Iñigo Pérez           0.509722       142.722222\n",
       "46      Oier Sanjurjo           0.000000       175.184722"
      ]
     },
     "execution_count": 3,
     "metadata": {},
     "output_type": "execute_result"
    }
   ],
   "source": [
    "data_cm = pd.read_csv('/Users/alexcar934/Desktop/EDA_bien/src/data/processed/csv_plots/1_Pases_Regates.csv')\n",
    "data_cm = data_cm.iloc[:,1:]\n",
    "data_cm.columns = ['Jugador', 'Regates Acertados','Pases Acertados']\n",
    "\n",
    "data_cm"
   ]
  },
  {
   "cell_type": "markdown",
   "metadata": {},
   "source": [
    "Creamos el scatterplot para ver gráficamente si existe correlación"
   ]
  },
  {
   "cell_type": "code",
   "execution_count": 4,
   "metadata": {},
   "outputs": [
    {
     "data": {
      "application/vnd.plotly.v1+json": {
       "config": {
        "linkText": "Export to plot.ly",
        "plotlyServerURL": "https://plot.ly",
        "showLink": false
       },
       "data": [
        {
         "marker": {
          "color": "rgba(255, 128, 255, 0.8)"
         },
         "mode": "markers",
         "name": "Regates / Pases",
         "text": [
          "Luka Modrić",
          "Renato Tapia",
          "Álex Berenguer",
          "Mikel Merino",
          "Borja García",
          "Denis Suárez",
          "Nolito",
          "Raúl Guti",
          "Guido Rodríguez",
          "Fidel",
          "Frenkie de Jong",
          "Federico Valverde",
          "Edu Expósito",
          "Pedro Mosquera",
          "Gonzalo Melero",
          "David Silva",
          "Manu Trigueros",
          "Mauro Arambarri",
          "Yangel Herrera",
          "William Carvalho",
          "Tomás Pina Isla",
          "Daniel Parejo",
          "Iván Marcone",
          "Luis Milla",
          "Pedri",
          "Carlos Soler",
          "Toni Kroos",
          "Sergio Busquets",
          "Maxime Gonalons",
          "Rodrigo Battaglia",
          "Ivan Rakitić",
          "Rubén Alcaraz",
          "Martín Zubimendi",
          "Saúl Ñíguez",
          "Koke",
          "Joan Jordán",
          "Néstor Araujo",
          "Mikel Vesga",
          "Unai López",
          "Mickael Malsa",
          "Vicente Iborra",
          "Joseph Aidoo",
          "Sergio Álvarez",
          "Dani García",
          "Ander Guevara",
          "Iñigo Pérez",
          "Oier Sanjurjo"
         ],
         "type": "scatter",
         "x": [
          20.33055555555556,
          12.8625,
          11.010416666666666,
          10.775,
          9.025,
          8.818055555555556,
          8.708333333333334,
          7.9534722222222225,
          7.826388888888889,
          7.3125,
          7.136111111111111,
          6.9125,
          6.58125,
          6.557638888888889,
          6.4375,
          6.383333333333334,
          6.248611111111111,
          6.175,
          5.9875,
          5.675,
          5.616666666666666,
          5.394444444444445,
          5.261111111111111,
          5.0777777777777775,
          4.255555555555556,
          4.166666666666667,
          4.161111111111111,
          3.654166666666667,
          3.451388888888889,
          3.1527777777777777,
          2.795138888888889,
          2.7534722222222223,
          2.711805555555556,
          2.654166666666667,
          2.2666666666666666,
          2.2583333333333333,
          2.052083333333333,
          1.9333333333333331,
          1.8027777777777776,
          1.6770833333333333,
          1.5583333333333331,
          1.44375,
          1.1847222222222222,
          1.1125,
          1.0930555555555554,
          0.5097222222222222,
          0
         ],
         "y": [
          652.1416666666667,
          538.3874999999999,
          120.06597222222224,
          492.95625,
          151.92083333333332,
          309.89166666666665,
          217.7083333333333,
          190.88333333333333,
          457.84375,
          153.5625,
          267.60416666666663,
          192.06875,
          255.9375,
          662.3215277777778,
          305.78125,
          219.6930555555556,
          273.8027777777777,
          157.11944444444444,
          169.64583333333331,
          385.9,
          195.17916666666665,
          530.0041666666667,
          409.70902777777775,
          193.59027777777777,
          218.09722222222223,
          272.91666666666663,
          449.4,
          478.0868055555555,
          157.77777777777777,
          245.91666666666663,
          281.75,
          170.7152777777778,
          227.79166666666663,
          154.82638888888889,
          337.1666666666667,
          333.66875,
          346.11805555555554,
          136.78333333333333,
          175.77083333333334,
          226.40625,
          209.8555555555556,
          135.7125,
          169.4152777777778,
          197.46875,
          238.2861111111111,
          142.7222222222222,
          175.18472222222223
         ]
        }
       ],
       "layout": {
        "template": {
         "data": {
          "bar": [
           {
            "error_x": {
             "color": "#2a3f5f"
            },
            "error_y": {
             "color": "#2a3f5f"
            },
            "marker": {
             "line": {
              "color": "#E5ECF6",
              "width": 0.5
             },
             "pattern": {
              "fillmode": "overlay",
              "size": 10,
              "solidity": 0.2
             }
            },
            "type": "bar"
           }
          ],
          "barpolar": [
           {
            "marker": {
             "line": {
              "color": "#E5ECF6",
              "width": 0.5
             },
             "pattern": {
              "fillmode": "overlay",
              "size": 10,
              "solidity": 0.2
             }
            },
            "type": "barpolar"
           }
          ],
          "carpet": [
           {
            "aaxis": {
             "endlinecolor": "#2a3f5f",
             "gridcolor": "white",
             "linecolor": "white",
             "minorgridcolor": "white",
             "startlinecolor": "#2a3f5f"
            },
            "baxis": {
             "endlinecolor": "#2a3f5f",
             "gridcolor": "white",
             "linecolor": "white",
             "minorgridcolor": "white",
             "startlinecolor": "#2a3f5f"
            },
            "type": "carpet"
           }
          ],
          "choropleth": [
           {
            "colorbar": {
             "outlinewidth": 0,
             "ticks": ""
            },
            "type": "choropleth"
           }
          ],
          "contour": [
           {
            "colorbar": {
             "outlinewidth": 0,
             "ticks": ""
            },
            "colorscale": [
             [
              0,
              "#0d0887"
             ],
             [
              0.1111111111111111,
              "#46039f"
             ],
             [
              0.2222222222222222,
              "#7201a8"
             ],
             [
              0.3333333333333333,
              "#9c179e"
             ],
             [
              0.4444444444444444,
              "#bd3786"
             ],
             [
              0.5555555555555556,
              "#d8576b"
             ],
             [
              0.6666666666666666,
              "#ed7953"
             ],
             [
              0.7777777777777778,
              "#fb9f3a"
             ],
             [
              0.8888888888888888,
              "#fdca26"
             ],
             [
              1,
              "#f0f921"
             ]
            ],
            "type": "contour"
           }
          ],
          "contourcarpet": [
           {
            "colorbar": {
             "outlinewidth": 0,
             "ticks": ""
            },
            "type": "contourcarpet"
           }
          ],
          "heatmap": [
           {
            "colorbar": {
             "outlinewidth": 0,
             "ticks": ""
            },
            "colorscale": [
             [
              0,
              "#0d0887"
             ],
             [
              0.1111111111111111,
              "#46039f"
             ],
             [
              0.2222222222222222,
              "#7201a8"
             ],
             [
              0.3333333333333333,
              "#9c179e"
             ],
             [
              0.4444444444444444,
              "#bd3786"
             ],
             [
              0.5555555555555556,
              "#d8576b"
             ],
             [
              0.6666666666666666,
              "#ed7953"
             ],
             [
              0.7777777777777778,
              "#fb9f3a"
             ],
             [
              0.8888888888888888,
              "#fdca26"
             ],
             [
              1,
              "#f0f921"
             ]
            ],
            "type": "heatmap"
           }
          ],
          "heatmapgl": [
           {
            "colorbar": {
             "outlinewidth": 0,
             "ticks": ""
            },
            "colorscale": [
             [
              0,
              "#0d0887"
             ],
             [
              0.1111111111111111,
              "#46039f"
             ],
             [
              0.2222222222222222,
              "#7201a8"
             ],
             [
              0.3333333333333333,
              "#9c179e"
             ],
             [
              0.4444444444444444,
              "#bd3786"
             ],
             [
              0.5555555555555556,
              "#d8576b"
             ],
             [
              0.6666666666666666,
              "#ed7953"
             ],
             [
              0.7777777777777778,
              "#fb9f3a"
             ],
             [
              0.8888888888888888,
              "#fdca26"
             ],
             [
              1,
              "#f0f921"
             ]
            ],
            "type": "heatmapgl"
           }
          ],
          "histogram": [
           {
            "marker": {
             "pattern": {
              "fillmode": "overlay",
              "size": 10,
              "solidity": 0.2
             }
            },
            "type": "histogram"
           }
          ],
          "histogram2d": [
           {
            "colorbar": {
             "outlinewidth": 0,
             "ticks": ""
            },
            "colorscale": [
             [
              0,
              "#0d0887"
             ],
             [
              0.1111111111111111,
              "#46039f"
             ],
             [
              0.2222222222222222,
              "#7201a8"
             ],
             [
              0.3333333333333333,
              "#9c179e"
             ],
             [
              0.4444444444444444,
              "#bd3786"
             ],
             [
              0.5555555555555556,
              "#d8576b"
             ],
             [
              0.6666666666666666,
              "#ed7953"
             ],
             [
              0.7777777777777778,
              "#fb9f3a"
             ],
             [
              0.8888888888888888,
              "#fdca26"
             ],
             [
              1,
              "#f0f921"
             ]
            ],
            "type": "histogram2d"
           }
          ],
          "histogram2dcontour": [
           {
            "colorbar": {
             "outlinewidth": 0,
             "ticks": ""
            },
            "colorscale": [
             [
              0,
              "#0d0887"
             ],
             [
              0.1111111111111111,
              "#46039f"
             ],
             [
              0.2222222222222222,
              "#7201a8"
             ],
             [
              0.3333333333333333,
              "#9c179e"
             ],
             [
              0.4444444444444444,
              "#bd3786"
             ],
             [
              0.5555555555555556,
              "#d8576b"
             ],
             [
              0.6666666666666666,
              "#ed7953"
             ],
             [
              0.7777777777777778,
              "#fb9f3a"
             ],
             [
              0.8888888888888888,
              "#fdca26"
             ],
             [
              1,
              "#f0f921"
             ]
            ],
            "type": "histogram2dcontour"
           }
          ],
          "mesh3d": [
           {
            "colorbar": {
             "outlinewidth": 0,
             "ticks": ""
            },
            "type": "mesh3d"
           }
          ],
          "parcoords": [
           {
            "line": {
             "colorbar": {
              "outlinewidth": 0,
              "ticks": ""
             }
            },
            "type": "parcoords"
           }
          ],
          "pie": [
           {
            "automargin": true,
            "type": "pie"
           }
          ],
          "scatter": [
           {
            "fillpattern": {
             "fillmode": "overlay",
             "size": 10,
             "solidity": 0.2
            },
            "type": "scatter"
           }
          ],
          "scatter3d": [
           {
            "line": {
             "colorbar": {
              "outlinewidth": 0,
              "ticks": ""
             }
            },
            "marker": {
             "colorbar": {
              "outlinewidth": 0,
              "ticks": ""
             }
            },
            "type": "scatter3d"
           }
          ],
          "scattercarpet": [
           {
            "marker": {
             "colorbar": {
              "outlinewidth": 0,
              "ticks": ""
             }
            },
            "type": "scattercarpet"
           }
          ],
          "scattergeo": [
           {
            "marker": {
             "colorbar": {
              "outlinewidth": 0,
              "ticks": ""
             }
            },
            "type": "scattergeo"
           }
          ],
          "scattergl": [
           {
            "marker": {
             "colorbar": {
              "outlinewidth": 0,
              "ticks": ""
             }
            },
            "type": "scattergl"
           }
          ],
          "scattermapbox": [
           {
            "marker": {
             "colorbar": {
              "outlinewidth": 0,
              "ticks": ""
             }
            },
            "type": "scattermapbox"
           }
          ],
          "scatterpolar": [
           {
            "marker": {
             "colorbar": {
              "outlinewidth": 0,
              "ticks": ""
             }
            },
            "type": "scatterpolar"
           }
          ],
          "scatterpolargl": [
           {
            "marker": {
             "colorbar": {
              "outlinewidth": 0,
              "ticks": ""
             }
            },
            "type": "scatterpolargl"
           }
          ],
          "scatterternary": [
           {
            "marker": {
             "colorbar": {
              "outlinewidth": 0,
              "ticks": ""
             }
            },
            "type": "scatterternary"
           }
          ],
          "surface": [
           {
            "colorbar": {
             "outlinewidth": 0,
             "ticks": ""
            },
            "colorscale": [
             [
              0,
              "#0d0887"
             ],
             [
              0.1111111111111111,
              "#46039f"
             ],
             [
              0.2222222222222222,
              "#7201a8"
             ],
             [
              0.3333333333333333,
              "#9c179e"
             ],
             [
              0.4444444444444444,
              "#bd3786"
             ],
             [
              0.5555555555555556,
              "#d8576b"
             ],
             [
              0.6666666666666666,
              "#ed7953"
             ],
             [
              0.7777777777777778,
              "#fb9f3a"
             ],
             [
              0.8888888888888888,
              "#fdca26"
             ],
             [
              1,
              "#f0f921"
             ]
            ],
            "type": "surface"
           }
          ],
          "table": [
           {
            "cells": {
             "fill": {
              "color": "#EBF0F8"
             },
             "line": {
              "color": "white"
             }
            },
            "header": {
             "fill": {
              "color": "#C8D4E3"
             },
             "line": {
              "color": "white"
             }
            },
            "type": "table"
           }
          ]
         },
         "layout": {
          "annotationdefaults": {
           "arrowcolor": "#2a3f5f",
           "arrowhead": 0,
           "arrowwidth": 1
          },
          "autotypenumbers": "strict",
          "coloraxis": {
           "colorbar": {
            "outlinewidth": 0,
            "ticks": ""
           }
          },
          "colorscale": {
           "diverging": [
            [
             0,
             "#8e0152"
            ],
            [
             0.1,
             "#c51b7d"
            ],
            [
             0.2,
             "#de77ae"
            ],
            [
             0.3,
             "#f1b6da"
            ],
            [
             0.4,
             "#fde0ef"
            ],
            [
             0.5,
             "#f7f7f7"
            ],
            [
             0.6,
             "#e6f5d0"
            ],
            [
             0.7,
             "#b8e186"
            ],
            [
             0.8,
             "#7fbc41"
            ],
            [
             0.9,
             "#4d9221"
            ],
            [
             1,
             "#276419"
            ]
           ],
           "sequential": [
            [
             0,
             "#0d0887"
            ],
            [
             0.1111111111111111,
             "#46039f"
            ],
            [
             0.2222222222222222,
             "#7201a8"
            ],
            [
             0.3333333333333333,
             "#9c179e"
            ],
            [
             0.4444444444444444,
             "#bd3786"
            ],
            [
             0.5555555555555556,
             "#d8576b"
            ],
            [
             0.6666666666666666,
             "#ed7953"
            ],
            [
             0.7777777777777778,
             "#fb9f3a"
            ],
            [
             0.8888888888888888,
             "#fdca26"
            ],
            [
             1,
             "#f0f921"
            ]
           ],
           "sequentialminus": [
            [
             0,
             "#0d0887"
            ],
            [
             0.1111111111111111,
             "#46039f"
            ],
            [
             0.2222222222222222,
             "#7201a8"
            ],
            [
             0.3333333333333333,
             "#9c179e"
            ],
            [
             0.4444444444444444,
             "#bd3786"
            ],
            [
             0.5555555555555556,
             "#d8576b"
            ],
            [
             0.6666666666666666,
             "#ed7953"
            ],
            [
             0.7777777777777778,
             "#fb9f3a"
            ],
            [
             0.8888888888888888,
             "#fdca26"
            ],
            [
             1,
             "#f0f921"
            ]
           ]
          },
          "colorway": [
           "#636efa",
           "#EF553B",
           "#00cc96",
           "#ab63fa",
           "#FFA15A",
           "#19d3f3",
           "#FF6692",
           "#B6E880",
           "#FF97FF",
           "#FECB52"
          ],
          "font": {
           "color": "#2a3f5f"
          },
          "geo": {
           "bgcolor": "white",
           "lakecolor": "white",
           "landcolor": "#E5ECF6",
           "showlakes": true,
           "showland": true,
           "subunitcolor": "white"
          },
          "hoverlabel": {
           "align": "left"
          },
          "hovermode": "closest",
          "mapbox": {
           "style": "light"
          },
          "paper_bgcolor": "white",
          "plot_bgcolor": "#E5ECF6",
          "polar": {
           "angularaxis": {
            "gridcolor": "white",
            "linecolor": "white",
            "ticks": ""
           },
           "bgcolor": "#E5ECF6",
           "radialaxis": {
            "gridcolor": "white",
            "linecolor": "white",
            "ticks": ""
           }
          },
          "scene": {
           "xaxis": {
            "backgroundcolor": "#E5ECF6",
            "gridcolor": "white",
            "gridwidth": 2,
            "linecolor": "white",
            "showbackground": true,
            "ticks": "",
            "zerolinecolor": "white"
           },
           "yaxis": {
            "backgroundcolor": "#E5ECF6",
            "gridcolor": "white",
            "gridwidth": 2,
            "linecolor": "white",
            "showbackground": true,
            "ticks": "",
            "zerolinecolor": "white"
           },
           "zaxis": {
            "backgroundcolor": "#E5ECF6",
            "gridcolor": "white",
            "gridwidth": 2,
            "linecolor": "white",
            "showbackground": true,
            "ticks": "",
            "zerolinecolor": "white"
           }
          },
          "shapedefaults": {
           "line": {
            "color": "#2a3f5f"
           }
          },
          "ternary": {
           "aaxis": {
            "gridcolor": "white",
            "linecolor": "white",
            "ticks": ""
           },
           "baxis": {
            "gridcolor": "white",
            "linecolor": "white",
            "ticks": ""
           },
           "bgcolor": "#E5ECF6",
           "caxis": {
            "gridcolor": "white",
            "linecolor": "white",
            "ticks": ""
           }
          },
          "title": {
           "x": 0.05
          },
          "xaxis": {
           "automargin": true,
           "gridcolor": "white",
           "linecolor": "white",
           "ticks": "",
           "title": {
            "standoff": 15
           },
           "zerolinecolor": "white",
           "zerolinewidth": 2
          },
          "yaxis": {
           "automargin": true,
           "gridcolor": "white",
           "linecolor": "white",
           "ticks": "",
           "title": {
            "standoff": 15
           },
           "zerolinecolor": "white",
           "zerolinewidth": 2
          }
         }
        },
        "title": {
         "text": "Correlación Pases acertados / Regates Acertados"
        },
        "xaxis": {
         "ticklen": 5,
         "title": {
          "text": "Pases Acertados"
         },
         "zeroline": false
        },
        "yaxis": {
         "ticklen": 5,
         "title": {
          "text": "Regates Acertados"
         },
         "zeroline": false
        }
       }
      },
      "text/html": [
       "<div>                            <div id=\"343d4859-b286-4cc0-8f3b-8e39d6f339a1\" class=\"plotly-graph-div\" style=\"height:525px; width:100%;\"></div>            <script type=\"text/javascript\">                require([\"plotly\"], function(Plotly) {                    window.PLOTLYENV=window.PLOTLYENV || {};                                    if (document.getElementById(\"343d4859-b286-4cc0-8f3b-8e39d6f339a1\")) {                    Plotly.newPlot(                        \"343d4859-b286-4cc0-8f3b-8e39d6f339a1\",                        [{\"marker\":{\"color\":\"rgba(255, 128, 255, 0.8)\"},\"mode\":\"markers\",\"name\":\"Regates / Pases\",\"text\":[\"Luka Modri\\u0107\",\"Renato Tapia\",\"\\u00c1lex Berenguer\",\"Mikel Merino\",\"Borja Garc\\u00eda\",\"Denis Su\\u00e1rez\",\"Nolito\",\"Ra\\u00fal Guti\",\"Guido Rodr\\u00edguez\",\"Fidel\",\"Frenkie de Jong\",\"Federico Valverde\",\"Edu Exp\\u00f3sito\",\"Pedro Mosquera\",\"Gonzalo Melero\",\"David Silva\",\"Manu Trigueros\",\"Mauro Arambarri\",\"Yangel Herrera\",\"William Carvalho\",\"Tom\\u00e1s Pina Isla\",\"Daniel Parejo\",\"Iv\\u00e1n Marcone\",\"Luis Milla\",\"Pedri\",\"Carlos Soler\",\"Toni Kroos\",\"Sergio Busquets\",\"Maxime Gonalons\",\"Rodrigo Battaglia\",\"Ivan Rakiti\\u0107\",\"Rub\\u00e9n Alcaraz\",\"Mart\\u00edn Zubimendi\",\"Sa\\u00fal \\u00d1\\u00edguez\",\"Koke\",\"Joan Jord\\u00e1n\",\"N\\u00e9stor Araujo\",\"Mikel Vesga\",\"Unai L\\u00f3pez\",\"Mickael Malsa\",\"Vicente Iborra\",\"Joseph Aidoo\",\"Sergio \\u00c1lvarez\",\"Dani Garc\\u00eda\",\"Ander Guevara\",\"I\\u00f1igo P\\u00e9rez\",\"Oier Sanjurjo\"],\"x\":[20.33055555555556,12.8625,11.010416666666666,10.775,9.025,8.818055555555556,8.708333333333334,7.9534722222222225,7.826388888888889,7.3125,7.136111111111111,6.9125,6.58125,6.557638888888889,6.4375,6.383333333333334,6.248611111111111,6.175,5.9875,5.675,5.616666666666666,5.394444444444445,5.261111111111111,5.0777777777777775,4.255555555555556,4.166666666666667,4.161111111111111,3.654166666666667,3.451388888888889,3.1527777777777777,2.795138888888889,2.7534722222222223,2.711805555555556,2.654166666666667,2.2666666666666666,2.2583333333333333,2.052083333333333,1.9333333333333331,1.8027777777777776,1.6770833333333333,1.5583333333333331,1.44375,1.1847222222222222,1.1125,1.0930555555555554,0.5097222222222222,0.0],\"y\":[652.1416666666667,538.3874999999999,120.06597222222224,492.95625,151.92083333333332,309.89166666666665,217.7083333333333,190.88333333333333,457.84375,153.5625,267.60416666666663,192.06875,255.9375,662.3215277777778,305.78125,219.6930555555556,273.8027777777777,157.11944444444444,169.64583333333331,385.9,195.17916666666665,530.0041666666667,409.70902777777775,193.59027777777777,218.09722222222223,272.91666666666663,449.4,478.0868055555555,157.77777777777777,245.91666666666663,281.75,170.7152777777778,227.79166666666663,154.82638888888889,337.1666666666667,333.66875,346.11805555555554,136.78333333333333,175.77083333333334,226.40625,209.8555555555556,135.7125,169.4152777777778,197.46875,238.2861111111111,142.7222222222222,175.18472222222223],\"type\":\"scatter\"}],                        {\"template\":{\"data\":{\"barpolar\":[{\"marker\":{\"line\":{\"color\":\"#E5ECF6\",\"width\":0.5},\"pattern\":{\"fillmode\":\"overlay\",\"size\":10,\"solidity\":0.2}},\"type\":\"barpolar\"}],\"bar\":[{\"error_x\":{\"color\":\"#2a3f5f\"},\"error_y\":{\"color\":\"#2a3f5f\"},\"marker\":{\"line\":{\"color\":\"#E5ECF6\",\"width\":0.5},\"pattern\":{\"fillmode\":\"overlay\",\"size\":10,\"solidity\":0.2}},\"type\":\"bar\"}],\"carpet\":[{\"aaxis\":{\"endlinecolor\":\"#2a3f5f\",\"gridcolor\":\"white\",\"linecolor\":\"white\",\"minorgridcolor\":\"white\",\"startlinecolor\":\"#2a3f5f\"},\"baxis\":{\"endlinecolor\":\"#2a3f5f\",\"gridcolor\":\"white\",\"linecolor\":\"white\",\"minorgridcolor\":\"white\",\"startlinecolor\":\"#2a3f5f\"},\"type\":\"carpet\"}],\"choropleth\":[{\"colorbar\":{\"outlinewidth\":0,\"ticks\":\"\"},\"type\":\"choropleth\"}],\"contourcarpet\":[{\"colorbar\":{\"outlinewidth\":0,\"ticks\":\"\"},\"type\":\"contourcarpet\"}],\"contour\":[{\"colorbar\":{\"outlinewidth\":0,\"ticks\":\"\"},\"colorscale\":[[0.0,\"#0d0887\"],[0.1111111111111111,\"#46039f\"],[0.2222222222222222,\"#7201a8\"],[0.3333333333333333,\"#9c179e\"],[0.4444444444444444,\"#bd3786\"],[0.5555555555555556,\"#d8576b\"],[0.6666666666666666,\"#ed7953\"],[0.7777777777777778,\"#fb9f3a\"],[0.8888888888888888,\"#fdca26\"],[1.0,\"#f0f921\"]],\"type\":\"contour\"}],\"heatmapgl\":[{\"colorbar\":{\"outlinewidth\":0,\"ticks\":\"\"},\"colorscale\":[[0.0,\"#0d0887\"],[0.1111111111111111,\"#46039f\"],[0.2222222222222222,\"#7201a8\"],[0.3333333333333333,\"#9c179e\"],[0.4444444444444444,\"#bd3786\"],[0.5555555555555556,\"#d8576b\"],[0.6666666666666666,\"#ed7953\"],[0.7777777777777778,\"#fb9f3a\"],[0.8888888888888888,\"#fdca26\"],[1.0,\"#f0f921\"]],\"type\":\"heatmapgl\"}],\"heatmap\":[{\"colorbar\":{\"outlinewidth\":0,\"ticks\":\"\"},\"colorscale\":[[0.0,\"#0d0887\"],[0.1111111111111111,\"#46039f\"],[0.2222222222222222,\"#7201a8\"],[0.3333333333333333,\"#9c179e\"],[0.4444444444444444,\"#bd3786\"],[0.5555555555555556,\"#d8576b\"],[0.6666666666666666,\"#ed7953\"],[0.7777777777777778,\"#fb9f3a\"],[0.8888888888888888,\"#fdca26\"],[1.0,\"#f0f921\"]],\"type\":\"heatmap\"}],\"histogram2dcontour\":[{\"colorbar\":{\"outlinewidth\":0,\"ticks\":\"\"},\"colorscale\":[[0.0,\"#0d0887\"],[0.1111111111111111,\"#46039f\"],[0.2222222222222222,\"#7201a8\"],[0.3333333333333333,\"#9c179e\"],[0.4444444444444444,\"#bd3786\"],[0.5555555555555556,\"#d8576b\"],[0.6666666666666666,\"#ed7953\"],[0.7777777777777778,\"#fb9f3a\"],[0.8888888888888888,\"#fdca26\"],[1.0,\"#f0f921\"]],\"type\":\"histogram2dcontour\"}],\"histogram2d\":[{\"colorbar\":{\"outlinewidth\":0,\"ticks\":\"\"},\"colorscale\":[[0.0,\"#0d0887\"],[0.1111111111111111,\"#46039f\"],[0.2222222222222222,\"#7201a8\"],[0.3333333333333333,\"#9c179e\"],[0.4444444444444444,\"#bd3786\"],[0.5555555555555556,\"#d8576b\"],[0.6666666666666666,\"#ed7953\"],[0.7777777777777778,\"#fb9f3a\"],[0.8888888888888888,\"#fdca26\"],[1.0,\"#f0f921\"]],\"type\":\"histogram2d\"}],\"histogram\":[{\"marker\":{\"pattern\":{\"fillmode\":\"overlay\",\"size\":10,\"solidity\":0.2}},\"type\":\"histogram\"}],\"mesh3d\":[{\"colorbar\":{\"outlinewidth\":0,\"ticks\":\"\"},\"type\":\"mesh3d\"}],\"parcoords\":[{\"line\":{\"colorbar\":{\"outlinewidth\":0,\"ticks\":\"\"}},\"type\":\"parcoords\"}],\"pie\":[{\"automargin\":true,\"type\":\"pie\"}],\"scatter3d\":[{\"line\":{\"colorbar\":{\"outlinewidth\":0,\"ticks\":\"\"}},\"marker\":{\"colorbar\":{\"outlinewidth\":0,\"ticks\":\"\"}},\"type\":\"scatter3d\"}],\"scattercarpet\":[{\"marker\":{\"colorbar\":{\"outlinewidth\":0,\"ticks\":\"\"}},\"type\":\"scattercarpet\"}],\"scattergeo\":[{\"marker\":{\"colorbar\":{\"outlinewidth\":0,\"ticks\":\"\"}},\"type\":\"scattergeo\"}],\"scattergl\":[{\"marker\":{\"colorbar\":{\"outlinewidth\":0,\"ticks\":\"\"}},\"type\":\"scattergl\"}],\"scattermapbox\":[{\"marker\":{\"colorbar\":{\"outlinewidth\":0,\"ticks\":\"\"}},\"type\":\"scattermapbox\"}],\"scatterpolargl\":[{\"marker\":{\"colorbar\":{\"outlinewidth\":0,\"ticks\":\"\"}},\"type\":\"scatterpolargl\"}],\"scatterpolar\":[{\"marker\":{\"colorbar\":{\"outlinewidth\":0,\"ticks\":\"\"}},\"type\":\"scatterpolar\"}],\"scatter\":[{\"fillpattern\":{\"fillmode\":\"overlay\",\"size\":10,\"solidity\":0.2},\"type\":\"scatter\"}],\"scatterternary\":[{\"marker\":{\"colorbar\":{\"outlinewidth\":0,\"ticks\":\"\"}},\"type\":\"scatterternary\"}],\"surface\":[{\"colorbar\":{\"outlinewidth\":0,\"ticks\":\"\"},\"colorscale\":[[0.0,\"#0d0887\"],[0.1111111111111111,\"#46039f\"],[0.2222222222222222,\"#7201a8\"],[0.3333333333333333,\"#9c179e\"],[0.4444444444444444,\"#bd3786\"],[0.5555555555555556,\"#d8576b\"],[0.6666666666666666,\"#ed7953\"],[0.7777777777777778,\"#fb9f3a\"],[0.8888888888888888,\"#fdca26\"],[1.0,\"#f0f921\"]],\"type\":\"surface\"}],\"table\":[{\"cells\":{\"fill\":{\"color\":\"#EBF0F8\"},\"line\":{\"color\":\"white\"}},\"header\":{\"fill\":{\"color\":\"#C8D4E3\"},\"line\":{\"color\":\"white\"}},\"type\":\"table\"}]},\"layout\":{\"annotationdefaults\":{\"arrowcolor\":\"#2a3f5f\",\"arrowhead\":0,\"arrowwidth\":1},\"autotypenumbers\":\"strict\",\"coloraxis\":{\"colorbar\":{\"outlinewidth\":0,\"ticks\":\"\"}},\"colorscale\":{\"diverging\":[[0,\"#8e0152\"],[0.1,\"#c51b7d\"],[0.2,\"#de77ae\"],[0.3,\"#f1b6da\"],[0.4,\"#fde0ef\"],[0.5,\"#f7f7f7\"],[0.6,\"#e6f5d0\"],[0.7,\"#b8e186\"],[0.8,\"#7fbc41\"],[0.9,\"#4d9221\"],[1,\"#276419\"]],\"sequential\":[[0.0,\"#0d0887\"],[0.1111111111111111,\"#46039f\"],[0.2222222222222222,\"#7201a8\"],[0.3333333333333333,\"#9c179e\"],[0.4444444444444444,\"#bd3786\"],[0.5555555555555556,\"#d8576b\"],[0.6666666666666666,\"#ed7953\"],[0.7777777777777778,\"#fb9f3a\"],[0.8888888888888888,\"#fdca26\"],[1.0,\"#f0f921\"]],\"sequentialminus\":[[0.0,\"#0d0887\"],[0.1111111111111111,\"#46039f\"],[0.2222222222222222,\"#7201a8\"],[0.3333333333333333,\"#9c179e\"],[0.4444444444444444,\"#bd3786\"],[0.5555555555555556,\"#d8576b\"],[0.6666666666666666,\"#ed7953\"],[0.7777777777777778,\"#fb9f3a\"],[0.8888888888888888,\"#fdca26\"],[1.0,\"#f0f921\"]]},\"colorway\":[\"#636efa\",\"#EF553B\",\"#00cc96\",\"#ab63fa\",\"#FFA15A\",\"#19d3f3\",\"#FF6692\",\"#B6E880\",\"#FF97FF\",\"#FECB52\"],\"font\":{\"color\":\"#2a3f5f\"},\"geo\":{\"bgcolor\":\"white\",\"lakecolor\":\"white\",\"landcolor\":\"#E5ECF6\",\"showlakes\":true,\"showland\":true,\"subunitcolor\":\"white\"},\"hoverlabel\":{\"align\":\"left\"},\"hovermode\":\"closest\",\"mapbox\":{\"style\":\"light\"},\"paper_bgcolor\":\"white\",\"plot_bgcolor\":\"#E5ECF6\",\"polar\":{\"angularaxis\":{\"gridcolor\":\"white\",\"linecolor\":\"white\",\"ticks\":\"\"},\"bgcolor\":\"#E5ECF6\",\"radialaxis\":{\"gridcolor\":\"white\",\"linecolor\":\"white\",\"ticks\":\"\"}},\"scene\":{\"xaxis\":{\"backgroundcolor\":\"#E5ECF6\",\"gridcolor\":\"white\",\"gridwidth\":2,\"linecolor\":\"white\",\"showbackground\":true,\"ticks\":\"\",\"zerolinecolor\":\"white\"},\"yaxis\":{\"backgroundcolor\":\"#E5ECF6\",\"gridcolor\":\"white\",\"gridwidth\":2,\"linecolor\":\"white\",\"showbackground\":true,\"ticks\":\"\",\"zerolinecolor\":\"white\"},\"zaxis\":{\"backgroundcolor\":\"#E5ECF6\",\"gridcolor\":\"white\",\"gridwidth\":2,\"linecolor\":\"white\",\"showbackground\":true,\"ticks\":\"\",\"zerolinecolor\":\"white\"}},\"shapedefaults\":{\"line\":{\"color\":\"#2a3f5f\"}},\"ternary\":{\"aaxis\":{\"gridcolor\":\"white\",\"linecolor\":\"white\",\"ticks\":\"\"},\"baxis\":{\"gridcolor\":\"white\",\"linecolor\":\"white\",\"ticks\":\"\"},\"bgcolor\":\"#E5ECF6\",\"caxis\":{\"gridcolor\":\"white\",\"linecolor\":\"white\",\"ticks\":\"\"}},\"title\":{\"x\":0.05},\"xaxis\":{\"automargin\":true,\"gridcolor\":\"white\",\"linecolor\":\"white\",\"ticks\":\"\",\"title\":{\"standoff\":15},\"zerolinecolor\":\"white\",\"zerolinewidth\":2},\"yaxis\":{\"automargin\":true,\"gridcolor\":\"white\",\"linecolor\":\"white\",\"ticks\":\"\",\"title\":{\"standoff\":15},\"zerolinecolor\":\"white\",\"zerolinewidth\":2}}},\"title\":{\"text\":\"Correlaci\\u00f3n Pases acertados / Regates Acertados\"},\"xaxis\":{\"ticklen\":5,\"title\":{\"text\":\"Pases Acertados\"},\"zeroline\":false},\"yaxis\":{\"ticklen\":5,\"title\":{\"text\":\"Regates Acertados\"},\"zeroline\":false}},                        {\"responsive\": true}                    ).then(function(){\n",
       "                            \n",
       "var gd = document.getElementById('343d4859-b286-4cc0-8f3b-8e39d6f339a1');\n",
       "var x = new MutationObserver(function (mutations, observer) {{\n",
       "        var display = window.getComputedStyle(gd).display;\n",
       "        if (!display || display === 'none') {{\n",
       "            console.log([gd, 'removed!']);\n",
       "            Plotly.purge(gd);\n",
       "            observer.disconnect();\n",
       "        }}\n",
       "}});\n",
       "\n",
       "// Listen for the removal of the full notebook cells\n",
       "var notebookContainer = gd.closest('#notebook-container');\n",
       "if (notebookContainer) {{\n",
       "    x.observe(notebookContainer, {childList: true});\n",
       "}}\n",
       "\n",
       "// Listen for the clearing of the current output cell\n",
       "var outputEl = gd.closest('.output');\n",
       "if (outputEl) {{\n",
       "    x.observe(outputEl, {childList: true});\n",
       "}}\n",
       "\n",
       "                        })                };                });            </script>        </div>"
      ]
     },
     "metadata": {},
     "output_type": "display_data"
    }
   ],
   "source": [
    "trace1 =go.Scatter(\n",
    "                    x = data_cm['Regates Acertados'],\n",
    "                    y = data_cm['Pases Acertados'],\n",
    "                    mode = \"markers\",\n",
    "                    name = \"Regates / Pases\",\n",
    "                    marker = dict(color = 'rgba(255, 128, 255, 0.8)'),\n",
    "                    text= data_cm['Jugador']\n",
    ")\n",
    "\n",
    "data = [trace1]\n",
    "\n",
    "layout = dict(title = 'Correlación Pases acertados / Regates Acertados',\n",
    "              xaxis= dict(title= 'Pases Acertados',ticklen= 5,zeroline= False),\n",
    "              yaxis= dict(title= 'Regates Acertados',ticklen= 5,zeroline= False)\n",
    "             )\n",
    "\n",
    "fig = dict(data = data, layout = layout)\n",
    "\n",
    "iplot(fig)"
   ]
  },
  {
   "cell_type": "code",
   "execution_count": 5,
   "metadata": {},
   "outputs": [
    {
     "data": {
      "text/plain": [
       "0.47276647847361797"
      ]
     },
     "execution_count": 5,
     "metadata": {},
     "output_type": "execute_result"
    }
   ],
   "source": [
    "data_cm['Regates Acertados'].corr(data_cm['Pases Acertados'])\n",
    "#la correlación entre variables no es significativa dado que el coeficiente de correlación es menor que 0.5. "
   ]
  }
 ],
 "metadata": {
  "kernelspec": {
   "display_name": "Python 3.10.6 64-bit",
   "language": "python",
   "name": "python3"
  },
  "language_info": {
   "codemirror_mode": {
    "name": "ipython",
    "version": 3
   },
   "file_extension": ".py",
   "mimetype": "text/x-python",
   "name": "python",
   "nbconvert_exporter": "python",
   "pygments_lexer": "ipython3",
   "version": "3.10.6"
  },
  "orig_nbformat": 4,
  "vscode": {
   "interpreter": {
    "hash": "aee8b7b246df8f9039afb4144a1f6fd8d2ca17a180786b69acc140d282b71a49"
   }
  }
 },
 "nbformat": 4,
 "nbformat_minor": 2
}
